{
 "cells": [
  {
   "cell_type": "markdown",
   "metadata": {},
   "source": [
    "## Imports"
   ]
  },
  {
   "cell_type": "code",
   "execution_count": 3,
   "metadata": {},
   "outputs": [],
   "source": [
    "import time\n",
    "from timeit import default_timer as timer\n",
    "import numpy as np\n",
    "from functools import wraps\n",
    "import cProfile\n",
    "import subprocess\n",
    "NAME = \"Phoebe\""
   ]
  },
  {
   "cell_type": "markdown",
   "metadata": {},
   "source": [
    "# getAcc Profiling Comparisons"
   ]
  },
  {
   "cell_type": "code",
   "execution_count": 15,
   "metadata": {},
   "outputs": [
    {
     "name": "stdout",
     "output_type": "stream",
     "text": [
      "Filename: sph.py\n",
      "\n",
      "Line #    Mem usage    Increment  Occurrences   Line Contents\n",
      "=============================================================\n",
      "   110  121.629 MiB -13944.918 MiB         301   @profile\n",
      "   111                                         def getAcc( pos, vel, m, h, k, n, lmbda, nu ):\n",
      "   112                                         \t\"\"\"\n",
      "   113                                         \tCalculate the acceleration on each SPH particle\n",
      "   114                                         \tpos   is an N x 3 matrix of positions\n",
      "   115                                         \tvel   is an N x 3 matrix of velocities\n",
      "   116                                         \tm     is the particle mass\n",
      "   117                                         \th     is the smoothing length\n",
      "   118                                         \tk     equation of state constant\n",
      "   119                                         \tn     polytropic index\n",
      "   120                                         \tlmbda external force constant\n",
      "   121                                         \tnu    viscosity\n",
      "   122                                         \ta     is N x 3 matrix of accelerations\n",
      "   123                                         \t\"\"\"\n",
      "   124                                         \t\n",
      "   125  121.629 MiB -190.836 MiB         301   \tN = pos.shape[0]\n",
      "   126                                         \t\n",
      "   127                                         \t# Calculate densities at the position of the particles\n",
      "   128  122.152 MiB  -89.133 MiB         301   \trho = getDensity( pos, pos, m, h )\n",
      "   129                                         \t\n",
      "   130                                         \t# Get the pressures\n",
      "   131  122.152 MiB -213.527 MiB         301   \tP = getPressure(rho, k, n)\n",
      "   132                                         \t\n",
      "   133                                         \t# Get pairwise distances and gradients\n",
      "   134  137.418 MiB 4382.508 MiB         301   \tdx, dy, dz = getPairwiseSeparations( pos, pos )\n",
      "   135  160.316 MiB 6677.273 MiB         301   \tdWx, dWy, dWz = gradW( dx, dy, dz, h )\n",
      "   136                                         \t\n",
      "   137                                         \t# Add Pressure contribution to accelerations\n",
      "   138  167.949 MiB 2083.285 MiB         301   \tax = - np.sum( m * ( P/rho**2 + P.T/rho.T**2  ) * dWx, 1).reshape((N,1))\n",
      "   139  167.949 MiB -223.289 MiB         301   \tay = - np.sum( m * ( P/rho**2 + P.T/rho.T**2  ) * dWy, 1).reshape((N,1))\n",
      "   140  167.949 MiB -223.168 MiB         301   \taz = - np.sum( m * ( P/rho**2 + P.T/rho.T**2  ) * dWz, 1).reshape((N,1))\n",
      "   141                                         \t\n",
      "   142                                         \t# pack together the acceleration components\n",
      "   143  167.949 MiB -216.465 MiB         301   \ta = np.hstack((ax,ay,az))\n",
      "   144                                         \t\n",
      "   145                                         \t# Add external potential force\n",
      "   146  167.949 MiB -211.523 MiB         301   \ta -= lmbda * pos\n",
      "   147                                         \t\n",
      "   148                                         \t# Add viscosity\n",
      "   149  167.949 MiB -213.277 MiB         301   \ta -= nu * vel\n",
      "   150                                         \t\n",
      "   151  167.949 MiB -213.273 MiB         301   \treturn a\n",
      "\n",
      "\n"
     ]
    }
   ],
   "source": [
    "# getAcc() \n",
    "! python -m memory_profiler sph.py"
   ]
  },
  {
   "cell_type": "code",
   "execution_count": 16,
   "metadata": {},
   "outputs": [
    {
     "name": "stdout",
     "output_type": "stream",
     "text": [
      "Filename: opt_sph.py\n",
      "\n",
      "Line #    Mem usage    Increment  Occurrences   Line Contents\n",
      "=============================================================\n",
      "   112  121.691 MiB -15238.809 MiB         301   @profile\n",
      "   113                                         def getAcc( pos, vel, m, h, k, n, lmbda, nu ):\n",
      "   114                                         \t\"\"\"\n",
      "   115                                         \tCalculate the acceleration on each SPH particle\n",
      "   116                                         \tpos   is an N x 3 matrix of positions\n",
      "   117                                         \tvel   is an N x 3 matrix of velocities\n",
      "   118                                         \tm     is the particle mass\n",
      "   119                                         \th     is the smoothing length\n",
      "   120                                         \tk     equation of state constant\n",
      "   121                                         \tn     polytropic index\n",
      "   122                                         \tlmbda external force constant\n",
      "   123                                         \tnu    viscosity\n",
      "   124                                         \ta     is N x 3 matrix of accelerations\n",
      "   125                                         \t\"\"\"\n",
      "   126                                         \t\n",
      "   127  121.691 MiB -1187.379 MiB         301   \tN = pos.shape[0]\n",
      "   128                                         \t\n",
      "   129                                         \t# Calculate densities at the position of the particles\n",
      "   130  115.488 MiB -2123.625 MiB         301   \trho = getDensity( pos, pos, m, h )\n",
      "   131                                         \t\n",
      "   132                                         \t# Get the pressures\n",
      "   133  115.488 MiB -261.383 MiB         301   \tP = getPressure(rho, k, n)\n",
      "   134                                         \t\n",
      "   135                                         \t# Get pairwise distances and gradients\n",
      "   136  138.387 MiB 6631.902 MiB         301   \tdx, dy, dz = getPairwiseSeparations( pos, pos )\n",
      "   137  168.918 MiB 8920.168 MiB         301   \tdWx, dWy, dWz = gradW( dx, dy, dz, h )\n",
      "   138                                         \t\n",
      "   139                                         \t# Add Pressure contribution to accelerations\n",
      "   140  168.918 MiB -263.426 MiB         301   \tax = - np.sum( m * ( P/rho**2 + P.T/rho.T**2  ) * dWx, 1).reshape((N,1))\n",
      "   141  172.668 MiB -260.840 MiB         301   \tay = - np.sum( m * ( P/rho**2 + P.T/rho.T**2  ) * dWy, 1).reshape((N,1))\n",
      "   142  168.918 MiB -1263.059 MiB         301   \taz = - np.sum( m * ( P/rho**2 + P.T/rho.T**2  ) * dWz, 1).reshape((N,1))\n",
      "   143                                         \t\n",
      "   144                                         \t# pack together the acceleration components\n",
      "   145  168.918 MiB -268.992 MiB         301   \ta = np.hstack((ax,ay,az))\n",
      "   146                                         \t\n",
      "   147                                         \t# Add external potential force\n",
      "   148  168.918 MiB -268.578 MiB         301   \ta -= lmbda * pos\n",
      "   149                                         \t\n",
      "   150                                         \t# Add viscosity\n",
      "   151  168.918 MiB -268.621 MiB         301   \ta -= nu * vel\n",
      "   152                                         \t\n",
      "   153  168.918 MiB -268.617 MiB         301   \treturn a\n",
      "\n",
      "\n"
     ]
    }
   ],
   "source": [
    "# Opt getAcc()\n",
    "! python -m memory_profiler opt_sph.py"
   ]
  },
  {
   "cell_type": "markdown",
   "metadata": {},
   "source": [
    "## getAcc() Optimization Results\n",
    "\n",
    "\n",
    "Version  |Initial (MiB)|peak (MiB)|Final (MiB)   \n",
    "---------|-------------|---------|----------\n",
    "Original |   112.418   | 168.672 | 168.672 \n",
    "Optimized|   122.039   | 172.168 | 170.191\n",
    "\n"
   ]
  },
  {
   "cell_type": "markdown",
   "metadata": {},
   "source": [
    "# getDensity Profiling Comparisons"
   ]
  },
  {
   "cell_type": "code",
   "execution_count": 13,
   "metadata": {},
   "outputs": [
    {
     "name": "stdout",
     "output_type": "stream",
     "text": [
      "Filename: sph.py\n",
      "\n",
      "Line #    Mem usage    Increment  Occurrences   Line Contents\n",
      "=============================================================\n",
      "    77  122.367 MiB -23257.410 MiB         901   @profile\n",
      "    78                                         def getDensity( r, pos, m, h ):\n",
      "    79                                         \t\"\"\"\n",
      "    80                                         \tGet Density at sampling loctions from SPH particle distribution\n",
      "    81                                         \tr     is an M x 3 matrix of sampling locations\n",
      "    82                                         \tpos   is an N x 3 matrix of SPH particle positions\n",
      "    83                                         \tm     is the particle mass\n",
      "    84                                         \th     is the smoothing length\n",
      "    85                                         \trho   is M x 1 vector of densities\n",
      "    86                                         \t\"\"\"\n",
      "    87                                         \t\n",
      "    88  122.367 MiB -1082.000 MiB         901   \tM = r.shape[0]\n",
      "    89                                         \t\n",
      "    90  137.633 MiB 8818.828 MiB         901   \tdx, dy, dz = getPairwiseSeparations( r, pos );\n",
      "    91                                         \t\n",
      "    92  151.617 MiB -356.125 MiB         901   \trho = np.sum( m * W(dx, dy, dz, h), 1 ).reshape((M,1))\n",
      "    93                                         \t\n",
      "    94  149.680 MiB -8942.676 MiB         901   \treturn rho\n",
      "\n",
      "\n"
     ]
    }
   ],
   "source": [
    "# get density\n",
    "! python -m memory_profiler sph.py"
   ]
  },
  {
   "cell_type": "code",
   "execution_count": 14,
   "metadata": {},
   "outputs": [
    {
     "name": "stdout",
     "output_type": "stream",
     "text": [
      "Filename: opt_sph.py\n",
      "\n",
      "Line #    Mem usage    Increment  Occurrences   Line Contents\n",
      "=============================================================\n",
      "    79  123.195 MiB -18965.469 MiB         901   @profile\n",
      "    80                                         def getDensity( r, pos, m, h ):\n",
      "    81                                         \t\"\"\"\n",
      "    82                                         \tGet Density at sampling loctions from SPH particle distribution\n",
      "    83                                         \tr     is an M x 3 matrix of sampling locations\n",
      "    84                                         \tpos   is an N x 3 matrix of SPH particle positions\n",
      "    85                                         \tm     is the particle mass\n",
      "    86                                         \th     is the smoothing length\n",
      "    87                                         \trho   is M x 1 vector of densities\n",
      "    88                                         \t\"\"\"\n",
      "    89                                         \t\n",
      "    90  123.195 MiB -4607.562 MiB         901   \tM = r.shape[0]\n",
      "    91                                         \t\n",
      "    92  138.602 MiB 6432.613 MiB         901   \tdx, dy, dz = getPairwiseSeparations( r, pos );\n",
      "    93                                         \t\n",
      "    94  144.129 MiB -6999.785 MiB         901   \trho = np.sum( m * W(dx, dy, dz, h), 1 ).reshape((M,1))\n",
      "    95                                         \t\n",
      "    96  144.129 MiB -7613.344 MiB         901   \treturn rho\n",
      "\n",
      "\n"
     ]
    }
   ],
   "source": [
    "# opt get density\n",
    "! python -m memory_profiler opt_sph.py"
   ]
  },
  {
   "cell_type": "markdown",
   "metadata": {},
   "source": [
    "## getDensity() Optimization Results\n",
    "\n",
    "\n",
    "Version  |Initial (MiB)|Max (MiB)|Final (MiB)   \n",
    "---------|-------------|---------|----------\n",
    "Original |   122.367   | ? | 149.680 \n",
    "Optimized|   123.195   | ? | 144.129\n",
    "\n"
   ]
  },
  {
   "cell_type": "markdown",
   "metadata": {},
   "source": [
    "# pairwise Profiling Comparisons"
   ]
  },
  {
   "cell_type": "code",
   "execution_count": 9,
   "metadata": {},
   "outputs": [
    {
     "name": "stdout",
     "output_type": "stream",
     "text": [
      "Filename: sph.py\n",
      "\n",
      "Line #    Mem usage    Increment  Occurrences   Line Contents\n",
      "=============================================================\n",
      "    48  122.129 MiB -19271.453 MiB        1202   @profile\t\n",
      "    49                                         def getPairwiseSeparations( ri, rj ):\n",
      "    50                                         \t\"\"\"\n",
      "    51                                         \tGet pairwise desprations between 2 sets of coordinates\n",
      "    52                                         \tri    is an M x 3 matrix of positions\n",
      "    53                                         \trj    is an N x 3 matrix of positions\n",
      "    54                                         \tdx, dy, dz   are M x N matrices of separations\n",
      "    55                                         \t\"\"\"\n",
      "    56                                         \t\n",
      "    57  122.129 MiB -1050.227 MiB        1202   \tM = ri.shape[0]\n",
      "    58  122.129 MiB -1050.227 MiB        1202   \tN = rj.shape[0]\n",
      "    59                                         \t\n",
      "    60                                         \t# positions ri = (x,y,z)\n",
      "    61  122.129 MiB -1050.227 MiB        1202   \trix = ri[:,0].reshape((M,1))\n",
      "    62  122.129 MiB -1050.227 MiB        1202   \triy = ri[:,1].reshape((M,1))\n",
      "    63  122.129 MiB -1050.223 MiB        1202   \triz = ri[:,2].reshape((M,1))\n",
      "    64                                         \t\n",
      "    65                                         \t# other set of points positions rj = (x,y,z)\n",
      "    66  122.129 MiB -1050.227 MiB        1202   \trjx = rj[:,0].reshape((N,1))\n",
      "    67  122.129 MiB -1051.922 MiB        1202   \trjy = rj[:,1].reshape((N,1))\n",
      "    68  122.129 MiB -1051.918 MiB        1202   \trjz = rj[:,2].reshape((N,1))\n",
      "    69                                         \t\n",
      "    70                                         \t# matrices that store all pairwise particle separations: r_i - r_j\n",
      "    71  129.633 MiB 5863.488 MiB        1202   \tdx = rix - rjx.T\n",
      "    72  136.312 MiB -2652.375 MiB        1202   \tdy = riy - rjy.T\n",
      "    73  137.395 MiB -3169.965 MiB        1202   \tdz = riz - rjz.T\n",
      "    74                                         \t\n",
      "    75  137.395 MiB -4890.289 MiB        1202   \treturn dx, dy, dz\n",
      "\n",
      "\n"
     ]
    }
   ],
   "source": [
    "# pairwise \n",
    "! python -m memory_profiler sph.py"
   ]
  },
  {
   "cell_type": "code",
   "execution_count": 12,
   "metadata": {},
   "outputs": [
    {
     "name": "stdout",
     "output_type": "stream",
     "text": [
      "Filename: opt_sph.py\n",
      "\n",
      "Line #    Mem usage    Increment  Occurrences   Line Contents\n",
      "=============================================================\n",
      "    67  123.383 MiB -25377.207 MiB        1202   @profile\t\n",
      "    68                                         def getPairwiseSeparations(ri, rj):\n",
      "    69                                             \"\"\"\n",
      "    70                                             Get pairwise separations between 2 sets of coordinates using numpy.subtract.outer()\n",
      "    71                                             to avoid unnecessary memory allocations.\n",
      "    72                                             \"\"\"\n",
      "    73  130.887 MiB -1158.930 MiB        1202       dx = np.subtract.outer(ri[:, 0], rj[:, 0])\n",
      "    74  131.059 MiB -5309.828 MiB        1202       dy = np.subtract.outer(ri[:, 1], rj[:, 1])\n",
      "    75  138.691 MiB 1579.148 MiB        1202       dz = np.subtract.outer(ri[:, 2], rj[:, 2])\n",
      "    76                                         \n",
      "    77  138.691 MiB -7595.492 MiB        1202       return dx, dy, dz\n",
      "\n",
      "\n"
     ]
    }
   ],
   "source": [
    "# pairwise Optimized\n",
    "! python -m memory_profiler opt_sph.py"
   ]
  },
  {
   "cell_type": "markdown",
   "metadata": {},
   "source": [
    "## getPairwise Optimization Results\n",
    "\n",
    "Version  |Initial (MiB)|Max (MiB)|Final (MiB)   \n",
    "---------|-------------|---------|----------\n",
    "Original |   118.590   | 121.098 | 121.098 \n",
    "Optimized|   119.555   | 216.289 | 125.668\n",
    "\n"
   ]
  },
  {
   "cell_type": "markdown",
   "metadata": {},
   "source": [
    "# gradW Profiling Comparisons"
   ]
  },
  {
   "cell_type": "code",
   "execution_count": 9,
   "metadata": {},
   "outputs": [
    {
     "name": "stdout",
     "output_type": "stream",
     "text": [
      "Filename: sph.py\n",
      "\n",
      "Line #    Mem usage    Increment  Occurrences   Line Contents\n",
      "=============================================================\n",
      "    28  119.438 MiB -2070.977 MiB         301   @profile\t\n",
      "    29                                         def gradW( x, y, z, h ):\n",
      "    30                                         \t\"\"\"\n",
      "    31                                         \tGradient of the Gausssian Smoothing kernel (3D)\n",
      "    32                                         \tx     is a vector/matrix of x positions\n",
      "    33                                         \ty     is a vector/matrix of y positions\n",
      "    34                                         \tz     is a vector/matrix of z positions\n",
      "    35                                         \th     is the smoothing length\n",
      "    36                                         \twx, wy, wz     is the evaluated gradient\n",
      "    37                                         \t\"\"\"\n",
      "    38                                         \t\n",
      "    39  123.105 MiB  747.633 MiB         301   \tr = np.sqrt(x**2 + y**2 + z**2)\n",
      "    40                                         \t\n",
      "    41  123.105 MiB -356.426 MiB         301   \tn = -2 * np.exp( -r**2 / h**2) / h**5 / (np.pi)**(3/2)\n",
      "    42  123.105 MiB -356.426 MiB         301   \twx = n * x\n",
      "    43  124.328 MiB   11.594 MiB         301   \twy = n * y\n",
      "    44  125.551 MiB   10.918 MiB         301   \twz = n * z\n",
      "    45                                         \t\n",
      "    46  125.551 MiB -357.098 MiB         301   \treturn wx, wy, wz\n",
      "\n",
      "\n"
     ]
    }
   ],
   "source": [
    "# gradW Original\n",
    "! python -m memory_profiler sph.py"
   ]
  },
  {
   "cell_type": "code",
   "execution_count": 13,
   "metadata": {},
   "outputs": [
    {
     "name": "stdout",
     "output_type": "stream",
     "text": [
      "Filename: opt_sph.py\n",
      "\n",
      "Line #    Mem usage    Increment  Occurrences   Line Contents\n",
      "=============================================================\n",
      "    28  119.555 MiB -1988.168 MiB         301   @profile\t\n",
      "    29                                         def gradW( x, y, z, h ):\n",
      "    30                                         \t\"\"\"\n",
      "    31                                         \tGradient of the Gausssian Smoothing kernel (3D)\n",
      "    32                                         \tx     is a vector/matrix of x positions\n",
      "    33                                         \ty     is a vector/matrix of y positions\n",
      "    34                                         \tz     is a vector/matrix of z positions\n",
      "    35                                         \th     is the smoothing length\n",
      "    36                                         \twx, wy, wz     is the evaluated gradient\n",
      "    37                                         \t\"\"\"\n",
      "    38                                         \t# initalize the arrays\n",
      "    39  119.555 MiB -273.734 MiB         301   \tr = np.empty(x.shape, dtype=x.dtype)\n",
      "    40  119.555 MiB -273.734 MiB         301   \twx = np.empty(x.shape, dtype=x.dtype)\n",
      "    41  119.555 MiB -273.734 MiB         301   \twy = np.empty(y.shape, dtype=y.dtype)\n",
      "    42  119.555 MiB -273.734 MiB         301   \twz = np.empty(z.shape, dtype=z.dtype)\n",
      "    43                                         \n",
      "    44                                         \t# calculate the gradient\n",
      "    45  120.777 MiB   94.289 MiB         301   \tnp.square(x, out=r)\n",
      "    46  122.000 MiB   94.285 MiB         301   \tnp.add(r, np.square(y), out=r)\n",
      "    47  122.000 MiB -273.734 MiB         301   \tnp.add(r, np.square(z), out=r)\n",
      "    48                                         \t\n",
      "    49  122.000 MiB -273.734 MiB         301   \tnp.divide(r , -h**2, out=r)\n",
      "    50  122.000 MiB -273.734 MiB         301   \tnp.exp(r, out=r)\n",
      "    51  122.000 MiB -273.734 MiB         301   \tnp.multiply(r, -2 / h**5 / (np.pi) ** (3/2), out=r)\n",
      "    52                                         \n",
      "    53  123.223 MiB   94.285 MiB         301   \tnp.multiply(r, x, out=wx)\n",
      "    54  124.445 MiB   93.332 MiB         301   \tnp.multiply(r, y, out=wy)\n",
      "    55  125.668 MiB   91.191 MiB         301   \tnp.multiply(r, z, out=wz)\n",
      "    56                                         \t\n",
      "    57  125.668 MiB -276.828 MiB         301   \treturn wx, wy, wz\n",
      "\n",
      "\n"
     ]
    }
   ],
   "source": [
    "# gradW Optimized\n",
    "! python -m memory_profiler opt_sph.py"
   ]
  },
  {
   "cell_type": "markdown",
   "metadata": {},
   "source": [
    "## gradW Optimization Results\n",
    "\n",
    "\n",
    "Version  |Initial (MiB)|Max (MiB)|Final (MiB)   \n",
    "---------|-------------|---------|----------\n",
    "Original |   119.438   | 870.738 | 125.551 \n",
    "Optimized|   119.555   | 216.289 | 125.668\n",
    "\n",
    "By optimizing the gradW function with np.empty to initailze arrays and using in-place operations we were able to significantly reduce the maximum memory usage during this function which increases the more efficient use of memory allocation. "
   ]
  },
  {
   "cell_type": "markdown",
   "metadata": {},
   "source": [
    "# W Profiling Comparisons"
   ]
  },
  {
   "cell_type": "code",
   "execution_count": 3,
   "metadata": {},
   "outputs": [
    {
     "name": "stdout",
     "output_type": "stream",
     "text": [
      "Filename: sph.py\n",
      "\n",
      "Line #    Mem usage    Increment  Occurrences   Line Contents\n",
      "=============================================================\n",
      "    11  137.219 MiB -25110.090 MiB         901   @profile\n",
      "    12                                         def W( x, y, z, h ):\n",
      "    13                                         \t\"\"\"\n",
      "    14                                             Gausssian Smoothing kernel (3D)\n",
      "    15                                         \tx     is a vector/matrix of x positions\n",
      "    16                                         \ty     is a vector/matrix of y positions\n",
      "    17                                         \tz     is a vector/matrix of z positions\n",
      "    18                                         \th     is the smoothing length\n",
      "    19                                         \tw     is the evaluated smoothing function\n",
      "    20                                         \t\"\"\"\n",
      "    21                                         \t\n",
      "    22  152.484 MiB 4762.035 MiB         901   \tr = np.sqrt(x**2 + y**2 + z**2)\n",
      "    23                                         \t\n",
      "    24  160.117 MiB -4206.320 MiB         901   \tw = (1.0 / (h*np.sqrt(np.pi)))**3 * np.exp( -r**2 / h**2)\n",
      "    25                                         \t\n",
      "    26  160.117 MiB -11079.059 MiB         901   \treturn w\n",
      "\n",
      "\n"
     ]
    }
   ],
   "source": [
    "# W\n",
    "! python -m memory_profiler sph.py"
   ]
  },
  {
   "cell_type": "code",
   "execution_count": 4,
   "metadata": {},
   "outputs": [
    {
     "name": "stdout",
     "output_type": "stream",
     "text": [
      "Filename: opt_sph.py\n",
      "\n",
      "Line #    Mem usage    Increment  Occurrences   Line Contents\n",
      "=============================================================\n",
      "    11  137.535 MiB -20373.844 MiB         901   @profile\n",
      "    12                                         def W( x, y, z, h ):\n",
      "    13                                         \t# OPTIMIZED VERSION\n",
      "    14                                         \t\"\"\"\n",
      "    15                                             Gausssian Smoothing kernel (3D)\n",
      "    16                                         \tx     is a vector/matrix of x positions\n",
      "    17                                         \ty     is a vector/matrix of y positions\n",
      "    18                                         \tz     is a vector/matrix of z positions\n",
      "    19                                         \th     is the smoothing length\n",
      "    20                                         \tw     is the evaluated smoothing function\n",
      "    21                                         \t\"\"\"\n",
      "    22  145.168 MiB -1958.254 MiB         901   \tr = np.square(x)\n",
      "    23  152.801 MiB -4021.664 MiB         901   \tnp.add(r, np.square(y), out=r)\n",
      "    24  152.801 MiB -10899.848 MiB         901   \tnp.add(r, np.square(z), out=r)\n",
      "    25  152.801 MiB -10899.848 MiB         901   \tnp.sqrt(r, out=r)\n",
      "    26                                         \n",
      "    27  152.801 MiB -10900.910 MiB         901   \tw = np.divide(r, h)\n",
      "    28  152.801 MiB -10900.910 MiB         901   \tnp.square(w, out=w)\n",
      "    29  152.801 MiB -10900.902 MiB         901   \tnp.negative(w, out=w)\n",
      "    30  152.801 MiB -10901.961 MiB         901   \tnp.exp(w, out=w)\n",
      "    31  152.801 MiB -10903.203 MiB         901   \tnp.multiply(w, (1.0 / (h * np.sqrt(np.pi)))**3, out=w)\n",
      "    32                                         \n",
      "    33  152.801 MiB -10903.211 MiB         901   \treturn w\n",
      "\n",
      "\n"
     ]
    }
   ],
   "source": [
    "# W optimized\n",
    "! python -m memory_profiler opt_sph.py"
   ]
  },
  {
   "cell_type": "markdown",
   "metadata": {},
   "source": [
    "## W Optimization Results\n",
    "\n",
    "\n",
    "Version  |Initial (MiB)|Max (MiB)|Final (MiB)   \n",
    "---------|-------------|---------|----------\n",
    "Original |   137.219   | 160.117 | 160.117 \n",
    "Optimized|   137.535   | 152.801 | 152.801\n",
    "\n",
    "By optimizing the W function with inplace operations, we were able to decrease the maximul MiB of memory used by 8 MiB. "
   ]
  },
  {
   "cell_type": "markdown",
   "metadata": {},
   "source": [
    "# main Profiling Comparisons"
   ]
  },
  {
   "cell_type": "code",
   "execution_count": 17,
   "metadata": {
    "scrolled": true
   },
   "outputs": [
    {
     "name": "stdout",
     "output_type": "stream",
     "text": [
      "Filename: sph.py\n",
      "\n",
      "Line #    Mem usage    Increment  Occurrences   Line Contents\n",
      "=============================================================\n",
      "   154  112.605 MiB  112.605 MiB           1   @profile\n",
      "   155                                         def main():\n",
      "   156                                         \t\"\"\" SPH simulation \"\"\"\n",
      "   157                                         \t\n",
      "   158                                         \t# Simulation parameters\n",
      "   159  112.605 MiB    0.000 MiB           1   \tN         = 1000    # Number of particles\n",
      "   160  112.605 MiB    0.000 MiB           1   \tt         = 0      # current time of the simulation\n",
      "   161  112.605 MiB    0.000 MiB           1   \ttEnd      = 12     # time at which simulation ends\n",
      "   162  112.605 MiB    0.000 MiB           1   \tdt        = 0.04   # timestep\n",
      "   163  112.605 MiB    0.000 MiB           1   \tM         = 2      # star mass\n",
      "   164  112.605 MiB    0.000 MiB           1   \tR         = 0.75   # star radius\n",
      "   165  112.605 MiB    0.000 MiB           1   \th         = 0.1    # smoothing length\n",
      "   166  112.605 MiB    0.000 MiB           1   \tk         = 0.1    # equation of state constant\n",
      "   167  112.605 MiB    0.000 MiB           1   \tn         = 1      # polytropic index\n",
      "   168  112.605 MiB    0.000 MiB           1   \tnu        = 1      # damping\n",
      "   169  112.605 MiB    0.000 MiB           1   \tplotRealTime = True # switch on for plotting as the simulation goes along\n",
      "   170                                         \t\n",
      "   171                                         \t# Generate Initial Conditions\n",
      "   172  112.625 MiB    0.020 MiB           1   \tnp.random.seed(42)            # set the random number generator seed\n",
      "   173                                         \t\n",
      "   174  112.660 MiB    0.035 MiB           1   \tlmbda = 2*k*(1+n)*np.pi**(-3/(2*n)) * (M*gamma(5/2+n)/R**3/gamma(1+n))**(1/n) / R**2  # ~ 2.01\n",
      "   175  112.664 MiB    0.004 MiB           1   \tm     = M/N                    # single particle mass\n",
      "   176  112.688 MiB    0.023 MiB           1   \tpos   = np.random.randn(N,3)   # randomly selected positions and velocities\n",
      "   177  112.707 MiB    0.020 MiB           1   \tvel   = np.zeros(pos.shape)\n",
      "   178                                         \t\n",
      "   179                                         \t# calculate initial gravitational accelerations\n",
      "   180  120.539 MiB    7.832 MiB           1   \tacc = getAcc( pos, vel, m, h, k, n, lmbda, nu )\n",
      "   181                                         \t\n",
      "   182                                         \t# number of timesteps\n",
      "   183  120.547 MiB    0.008 MiB           1   \tNt = int(np.ceil(tEnd/dt))\n",
      "   184                                         \t\n",
      "   185                                         \t# prep figure\n",
      "   186  120.973 MiB    0.426 MiB           1   \tfig = plt.figure(figsize=(4,5), dpi=80)\n",
      "   187  120.973 MiB    0.000 MiB           1   \tgrid = plt.GridSpec(3, 1, wspace=0.0, hspace=0.3)\n",
      "   188  121.434 MiB    0.461 MiB           1   \tax1 = plt.subplot(grid[0:2,0])\n",
      "   189  121.617 MiB    0.184 MiB           1   \tax2 = plt.subplot(grid[2,0])\n",
      "   190  121.617 MiB    0.000 MiB           1   \trr = np.zeros((100,3))\n",
      "   191  121.621 MiB    0.004 MiB           1   \trlin = np.linspace(0,1,100)\n",
      "   192  121.621 MiB    0.000 MiB           1   \trr[:,0] =rlin\n",
      "   193  121.621 MiB    0.000 MiB           1   \trho_analytic = lmbda/(4*k) * (R**2 - rlin**2)\n",
      "   194                                         \t\n",
      "   195                                         \t# Simulation Main Loop\n",
      "   196  121.621 MiB -231.531 MiB         301   \tfor i in range(Nt):\n",
      "   197                                         \t\t# (1/2) kick\n",
      "   198  121.621 MiB -279.934 MiB         300   \t\tvel += acc * dt/2\n",
      "   199                                         \t\t\n",
      "   200                                         \t\t# drift\n",
      "   201  121.621 MiB -279.934 MiB         300   \t\tpos += vel * dt\n",
      "   202                                         \t\t\n",
      "   203                                         \t\t# update accelerations\n",
      "   204  122.395 MiB   18.266 MiB         300   \t\tacc = getAcc( pos, vel, m, h, k, n, lmbda, nu )\n",
      "   205                                         \t\t\n",
      "   206                                         \t\t# (1/2) kick\n",
      "   207  122.371 MiB -195.852 MiB         300   \t\tvel += acc * dt/2\n",
      "   208                                         \t\t\n",
      "   209                                         \t\t# update time\n",
      "   210  122.371 MiB -190.230 MiB         300   \t\tt += dt\n",
      "   211                                         \t\t\n",
      "   212                                         \t\t# get density for plotting\n",
      "   213  122.371 MiB -186.840 MiB         300   \t\trho = getDensity( pos, pos, m, h )\n",
      "   214                                         \t\t\n",
      "   215                                         \t\t# plot in real time\n",
      "   216  122.371 MiB -186.840 MiB         300   \t\tif plotRealTime or (i == Nt-1):\n",
      "   217  122.371 MiB -186.840 MiB         300   \t\t\tplt.sca(ax1)\n",
      "   218  122.375 MiB -289.344 MiB         300   \t\t\tplt.cla()\n",
      "   219  122.344 MiB -297.648 MiB         300   \t\t\tcval = np.minimum((rho-3)/3,1).flatten()\n",
      "   220  122.379 MiB -296.438 MiB         300   \t\t\tplt.scatter(pos[:,0],pos[:,1], c=cval, cmap=plt.cm.autumn, s=10, alpha=0.5)\n",
      "   221  122.379 MiB -328.008 MiB         300   \t\t\tax1.set(xlim=(-1.4, 1.4), ylim=(-1.2, 1.2))\n",
      "   222  122.379 MiB -328.758 MiB         300   \t\t\tax1.set_aspect('equal', 'box')\n",
      "   223  122.379 MiB -431.988 MiB         300   \t\t\tax1.set_xticks([-1,0,1])\n",
      "   224  122.379 MiB -549.363 MiB         300   \t\t\tax1.set_yticks([-1,0,1])\n",
      "   225  122.379 MiB -537.824 MiB         300   \t\t\tax1.set_facecolor('black')\n",
      "   226  122.379 MiB -537.824 MiB         300   \t\t\tax1.set_facecolor((.1,.1,.1))\n",
      "   227                                         \t\t\t\n",
      "   228  122.379 MiB -537.824 MiB         300   \t\t\tplt.sca(ax2)\n",
      "   229  122.387 MiB -706.305 MiB         300   \t\t\tplt.cla()\n",
      "   230  122.387 MiB -708.797 MiB         300   \t\t\tax2.set(xlim=(0, 1), ylim=(0, 3))\n",
      "   231  122.387 MiB -708.797 MiB         300   \t\t\tax2.set_aspect(0.1)\n",
      "   232  122.387 MiB -720.555 MiB         300   \t\t\tplt.plot(rlin, rho_analytic, color='gray', linewidth=2)\n",
      "   233  121.520 MiB -483.816 MiB         300   \t\t\trho_radial = getDensity( rr, pos, m, h )\n",
      "   234  121.520 MiB -231.523 MiB         300   \t\t\tplt.plot(rlin, rho_radial, color='blue')\n",
      "   235                                         \t\t\t# plt.pause(0.001)\n",
      "   236                                         \t    \n",
      "   237                                         \t\n",
      "   238                                         \t\n",
      "   239                                         \t# add labels/legend\n",
      "   240  121.352 MiB   -0.270 MiB           1   \tplt.sca(ax2)\n",
      "   241  121.352 MiB    0.000 MiB           1   \tplt.xlabel('radius')\n",
      "   242  121.352 MiB    0.000 MiB           1   \tplt.ylabel('density')\n",
      "   243                                         \t\n",
      "   244                                         \t# Save figure\n",
      "   245  123.527 MiB    2.176 MiB           1   \tplt.savefig('sph.png',dpi=240)\n",
      "   246                                         \t# plt.show()\n",
      "   247                                         \t    \n",
      "   248  123.527 MiB    0.000 MiB           1   \treturn 0\n",
      "\n",
      "\n"
     ]
    }
   ],
   "source": [
    "# main\n",
    "! python -m memory_profiler sph.py"
   ]
  },
  {
   "cell_type": "code",
   "execution_count": 18,
   "metadata": {},
   "outputs": [
    {
     "name": "stdout",
     "output_type": "stream",
     "text": [
      "Filename: opt_sph.py\n",
      "\n",
      "Line #    Mem usage    Increment  Occurrences   Line Contents\n",
      "=============================================================\n",
      "   156  112.930 MiB  112.930 MiB           1   @profile\n",
      "   157                                         def main():\n",
      "   158                                         \t\"\"\" SPH simulation \"\"\"\n",
      "   159                                         \t\n",
      "   160                                         \t# Simulation parameters\n",
      "   161  112.930 MiB    0.000 MiB           1   \tN         = 1000    # Number of particles\n",
      "   162  112.930 MiB    0.000 MiB           1   \tt         = 0      # current time of the simulation\n",
      "   163  112.934 MiB    0.004 MiB           1   \ttEnd      = 12     # time at which simulation ends\n",
      "   164  112.934 MiB    0.000 MiB           1   \tdt        = 0.04   # timestep\n",
      "   165  112.934 MiB    0.000 MiB           1   \tM         = 2      # star mass\n",
      "   166  112.934 MiB    0.000 MiB           1   \tR         = 0.75   # star radius\n",
      "   167  112.934 MiB    0.000 MiB           1   \th         = 0.1    # smoothing length\n",
      "   168  112.934 MiB    0.000 MiB           1   \tk         = 0.1    # equation of state constant\n",
      "   169  112.934 MiB    0.000 MiB           1   \tn         = 1      # polytropic index\n",
      "   170  112.934 MiB    0.000 MiB           1   \tnu        = 1      # damping\n",
      "   171  112.934 MiB    0.000 MiB           1   \tplotRealTime = True # switch on for plotting as the simulation goes along\n",
      "   172                                         \t\n",
      "   173                                         \t# Generate Initial Conditions\n",
      "   174  112.953 MiB    0.020 MiB           1   \tnp.random.seed(42)            # set the random number generator seed\n",
      "   175                                         \t\n",
      "   176  112.988 MiB    0.035 MiB           1   \tlmbda = 2*k*(1+n)*np.pi**(-3/(2*n)) * (M*gamma(5/2+n)/R**3/gamma(1+n))**(1/n) / R**2  # ~ 2.01\n",
      "   177  112.992 MiB    0.004 MiB           1   \tm     = M/N                    # single particle mass\n",
      "   178  113.016 MiB    0.023 MiB           1   \tpos   = np.random.randn(N,3)   # randomly selected positions and velocities\n",
      "   179  113.035 MiB    0.020 MiB           1   \tvel   = np.zeros(pos.shape)\n",
      "   180                                         \t\n",
      "   181                                         \t# calculate initial gravitational accelerations\n",
      "   182  120.902 MiB    7.867 MiB           1   \tacc = getAcc( pos, vel, m, h, k, n, lmbda, nu )\n",
      "   183                                         \t\n",
      "   184                                         \t# number of timesteps\n",
      "   185  120.910 MiB    0.008 MiB           1   \tNt = int(np.ceil(tEnd/dt))\n",
      "   186                                         \t\n",
      "   187                                         \t# prep figure\n",
      "   188  121.320 MiB    0.410 MiB           1   \tfig = plt.figure(figsize=(4,5), dpi=80)\n",
      "   189  121.320 MiB    0.000 MiB           1   \tgrid = plt.GridSpec(3, 1, wspace=0.0, hspace=0.3)\n",
      "   190  121.781 MiB    0.461 MiB           1   \tax1 = plt.subplot(grid[0:2,0])\n",
      "   191  122.020 MiB    0.238 MiB           1   \tax2 = plt.subplot(grid[2,0])\n",
      "   192  122.020 MiB    0.000 MiB           1   \trr = np.zeros((100,3))\n",
      "   193  122.023 MiB    0.004 MiB           1   \trlin = np.linspace(0,1,100)\n",
      "   194  122.023 MiB    0.000 MiB           1   \trr[:,0] =rlin\n",
      "   195  122.023 MiB    0.000 MiB           1   \trho_analytic = lmbda/(4*k) * (R**2 - rlin**2)\n",
      "   196                                         \t\n",
      "   197                                         \t# Simulation Main Loop\n",
      "   198  122.023 MiB  -26.203 MiB         301   \tfor i in range(Nt):\n",
      "   199                                         \t\t# (1/2) kick\n",
      "   200  122.023 MiB -1240.473 MiB         300   \t\tvel += acc * dt/2\n",
      "   201                                         \t\t\n",
      "   202                                         \t\t# drift\n",
      "   203  122.023 MiB -1240.473 MiB         300   \t\tpos += vel * dt\n",
      "   204                                         \t\t\n",
      "   205                                         \t\t# update accelerations\n",
      "   206  122.594 MiB   73.230 MiB         300   \t\tacc = getAcc( pos, vel, m, h, k, n, lmbda, nu )\n",
      "   207                                         \t\t\n",
      "   208                                         \t\t# (1/2) kick\n",
      "   209  122.570 MiB  -84.285 MiB         300   \t\tvel += acc * dt/2\n",
      "   210                                         \t\t\n",
      "   211                                         \t\t# update time\n",
      "   212  122.570 MiB  -80.949 MiB         300   \t\tt += dt\n",
      "   213                                         \t\t\n",
      "   214                                         \t\t# get density for plotting\n",
      "   215  114.938 MiB -2334.527 MiB         300   \t\trho = getDensity( pos, pos, m, h )\n",
      "   216                                         \t\t\n",
      "   217                                         \t\t# plot in real time\n",
      "   218  114.938 MiB  -44.672 MiB         300   \t\tif plotRealTime or (i == Nt-1):\n",
      "   219  114.938 MiB  -44.672 MiB         300   \t\t\tplt.sca(ax1)\n",
      "   220  114.938 MiB  -59.387 MiB         300   \t\t\tplt.cla()\n",
      "   221  114.938 MiB  -58.094 MiB         300   \t\t\tcval = np.minimum((rho-3)/3,1).flatten()\n",
      "   222  114.957 MiB  -51.090 MiB         300   \t\t\tplt.scatter(pos[:,0],pos[:,1], c=cval, cmap=plt.cm.autumn, s=10, alpha=0.5)\n",
      "   223  114.957 MiB  -59.992 MiB         300   \t\t\tax1.set(xlim=(-1.4, 1.4), ylim=(-1.2, 1.2))\n",
      "   224  114.957 MiB  -61.242 MiB         300   \t\t\tax1.set_aspect('equal', 'box')\n",
      "   225  114.961 MiB  -67.145 MiB         300   \t\t\tax1.set_xticks([-1,0,1])\n",
      "   226  114.941 MiB  -79.188 MiB         300   \t\t\tax1.set_yticks([-1,0,1])\n",
      "   227  114.941 MiB  -78.625 MiB         300   \t\t\tax1.set_facecolor('black')\n",
      "   228  114.941 MiB  -78.625 MiB         300   \t\t\tax1.set_facecolor((.1,.1,.1))\n",
      "   229                                         \t\t\t\n",
      "   230  114.941 MiB  -78.625 MiB         300   \t\t\tplt.sca(ax2)\n",
      "   231  114.938 MiB -109.898 MiB         300   \t\t\tplt.cla()\n",
      "   232  114.938 MiB -101.000 MiB         300   \t\t\tax2.set(xlim=(0, 1), ylim=(0, 3))\n",
      "   233  114.938 MiB -101.750 MiB         300   \t\t\tax2.set_aspect(0.1)\n",
      "   234  114.938 MiB -101.652 MiB         300   \t\t\tplt.plot(rlin, rho_analytic, color='gray', linewidth=2)\n",
      "   235  118.000 MiB  901.730 MiB         300   \t\t\trho_radial = getDensity( rr, pos, m, h )\n",
      "   236  118.000 MiB  -26.199 MiB         300   \t\t\tplt.plot(rlin, rho_radial, color='blue')\n",
      "   237                                         \t\t\t# plt.pause(0.001)\n",
      "   238                                         \t    \n",
      "   239                                         \t\n",
      "   240                                         \t\n",
      "   241                                         \t# add labels/legend\n",
      "   242  117.988 MiB   -4.035 MiB           1   \tplt.sca(ax2)\n",
      "   243  117.988 MiB    0.000 MiB           1   \tplt.xlabel('radius')\n",
      "   244  117.988 MiB    0.000 MiB           1   \tplt.ylabel('density')\n",
      "   245                                         \t\n",
      "   246                                         \t# Save figure\n",
      "   247  117.309 MiB   -0.680 MiB           1   \tplt.savefig('sph.png',dpi=240)\n",
      "   248                                         \t# plt.show()\n",
      "   249                                         \t    \n",
      "   250  117.309 MiB    0.000 MiB           1   \treturn 0\n",
      "\n",
      "\n"
     ]
    }
   ],
   "source": [
    "# opt\n",
    "! python -m memory_profiler opt_sph.py"
   ]
  },
  {
   "cell_type": "markdown",
   "metadata": {},
   "source": [
    "## getDensity() Optimization Results\n",
    "\n",
    "Version  |Initial (MiB)|Max (MiB)|Final (MiB)   \n",
    "---------|-------------|---------|----------\n",
    "Original |   122.367   | 149.680 | 149.680 \n",
    "Optimized|   123.195   | 144.129 | 144.129\n",
    "\n",
    "## getPairwise Optimization Results\n",
    "\n",
    "Version  |Initial (MiB)|Max (MiB)|Final (MiB)   \n",
    "---------|-------------|---------|----------\n",
    "Original |   122.129   | 137.395 | 137.395 \n",
    "Optimized|   123.383   | 138.691 | 138.691\n",
    "\n",
    "## gradW Optimization Results\n",
    "\n",
    "Version  |Initial (MiB)|Max (MiB)|Final (MiB)   \n",
    "---------|-------------|---------|----------\n",
    "Original |   119.438   | 870.738 | 125.551 \n",
    "Optimized|   119.555   | 216.289 | 125.668\n",
    "\n",
    "## W Optimization Results\n",
    "\n",
    "Version  |Initial (MiB)|Max (MiB)|Final (MiB)   \n",
    "---------|-------------|---------|----------\n",
    "Original |   137.219   | 160.117 | 160.117 \n",
    "Optimized|   137.535   | 152.801 | 152.801\n",
    "\n",
    "## Main Optimization Results\n",
    "\n",
    "Version  |Initial (MiB)|Max (MiB)|Final (MiB)   \n",
    "---------|-------------|---------|----------\n",
    "Original |   112.605   | 123.527 | 123.527  \n",
    "Optimized|   137.535   | 122.594 | 117.309\n",
    "\n"
   ]
  },
  {
   "cell_type": "code",
   "execution_count": 21,
   "metadata": {},
   "outputs": [
    {
     "data": {
      "image/png": "[encoded data removed]",
      "text/plain": [
       "<Figure size 1000x600 with 1 Axes>"
      ]
     },
     "metadata": {},
     "output_type": "display_data"
    }
   ],
   "source": [
    "import matplotlib.pyplot as plt\n",
    "\n",
    "# Example data (replace with actual parsed data)\n",
    "functions = ['getDensity', 'getPairwise', 'gradW', 'W', 'Main']\n",
    "original_max = [149.680, 137.395, 870.738, 160.117, 123.527]\n",
    "optimized_max = [144.129, 138.691, 216.289, 152.801, 122.594]\n",
    "\n",
    "x = range(len(functions))\n",
    "\n",
    "plt.figure(figsize=(10, 6))\n",
    "plt.bar(x, original_max, width=0.4, label='Original', align='center')\n",
    "plt.bar(x, optimized_max, width=0.4, label='Optimized', align='edge')\n",
    "plt.xlabel('Functions')\n",
    "plt.ylabel('Memory Usage (MiB)')\n",
    "plt.title('Memory Usage Comparison')\n",
    "plt.xticks(x, functions)\n",
    "plt.legend()\n",
    "plt.show()"
   ]
  },
  {
   "cell_type": "markdown",
   "metadata": {},
   "source": [
    "# Mprof "
   ]
  },
  {
   "cell_type": "code",
   "execution_count": 24,
   "metadata": {},
   "outputs": [
    {
     "name": "stdout",
     "output_type": "stream",
     "text": [
      "mprof.py: Sampling memory every 0.1s\n",
      "running new process\n",
      "running as a Python program...\n"
     ]
    }
   ],
   "source": [
    "! python -m mprof run opt_sph.py"
   ]
  },
  {
   "cell_type": "code",
   "execution_count": 25,
   "metadata": {},
   "outputs": [
    {
     "name": "stdout",
     "output_type": "stream",
     "text": [
      "mprof.py: Sampling memory every 0.1s\n",
      "running new process\n",
      "running as a Python program...\n"
     ]
    }
   ],
   "source": [
    "! python -m mprof run sph.py"
   ]
  },
  {
   "cell_type": "code",
   "execution_count": null,
   "metadata": {},
   "outputs": [
    {
     "name": "stdout",
     "output_type": "stream",
     "text": [
      "Input file not found: mem_opt/mprofile_20250223123640.dat\n",
      "No files found from given input.\n"
     ]
    }
   ],
   "source": [
    "! python -m mprof plot "
   ]
  },
  {
   "cell_type": "code",
   "execution_count": null,
   "metadata": {},
   "outputs": [],
   "source": [
    "! python -m mprof plot "
   ]
  },
  {
   "cell_type": "markdown",
   "metadata": {},
   "source": [
    "# mprof notes\n",
    "Original has a max usage of 10Mib in the first 0 seconds, and then stays steady. Then the "
   ]
  }
 ],
 "metadata": {
  "kernelspec": {
   "display_name": "venv",
   "language": "python",
   "name": "python3"
  },
  "language_info": {
   "codemirror_mode": {
    "name": "ipython",
    "version": 3
   },
   "file_extension": ".py",
   "mimetype": "text/x-python",
   "name": "python",
   "nbconvert_exporter": "python",
   "pygments_lexer": "ipython3",
   "version": "3.12.9"
  }
 },
 "nbformat": 4,
 "nbformat_minor": 4
}
