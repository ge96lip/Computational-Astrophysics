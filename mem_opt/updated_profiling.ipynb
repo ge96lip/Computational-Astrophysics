{
 "cells": [
  {
   "cell_type": "markdown",
   "metadata": {},
   "source": [
    "## Imports"
   ]
  },
  {
   "cell_type": "code",
   "execution_count": 3,
   "metadata": {},
   "outputs": [],
   "source": [
    "import time\n",
    "from timeit import default_timer as timer\n",
    "import numpy as np\n",
    "from functools import wraps\n",
    "import cProfile\n",
    "import subprocess\n",
    "NAME = \"Phoebe\""
   ]
  },
  {
   "cell_type": "markdown",
   "metadata": {},
   "source": [
    "# getAcc Profiling Comparisons"
   ]
  },
  {
   "cell_type": "code",
   "execution_count": null,
   "metadata": {},
   "outputs": [],
   "source": [
    "# getAcc() \n",
    "! python -m memory_profiler sph.py"
   ]
  },
  {
   "cell_type": "markdown",
   "metadata": {},
   "source": [
    "# getPressure Profiling Comparisons"
   ]
  },
  {
   "cell_type": "code",
   "execution_count": null,
   "metadata": {},
   "outputs": [],
   "source": [
    "# get pressure\n",
    "! python -m memory_profiler sph.py"
   ]
  },
  {
   "cell_type": "markdown",
   "metadata": {},
   "source": [
    "# getDensity Profiling Comparisons"
   ]
  },
  {
   "cell_type": "code",
   "execution_count": null,
   "metadata": {},
   "outputs": [],
   "source": [
    "# get density\n",
    "! python -m memory_profiler sph.py"
   ]
  },
  {
   "cell_type": "markdown",
   "metadata": {},
   "source": [
    "# pairwise Profiling Comparisons"
   ]
  },
  {
   "cell_type": "code",
   "execution_count": null,
   "metadata": {},
   "outputs": [],
   "source": [
    "# pairwise \n",
    "! python -m memory_profiler sph.py"
   ]
  },
  {
   "cell_type": "markdown",
   "metadata": {},
   "source": [
    "# gradW Profiling Comparisons"
   ]
  },
  {
   "cell_type": "code",
   "execution_count": 9,
   "metadata": {},
   "outputs": [
    {
     "name": "stdout",
     "output_type": "stream",
     "text": [
      "Filename: sph.py\n",
      "\n",
      "Line #    Mem usage    Increment  Occurrences   Line Contents\n",
      "=============================================================\n",
      "    28  119.438 MiB -2070.977 MiB         301   @profile\t\n",
      "    29                                         def gradW( x, y, z, h ):\n",
      "    30                                         \t\"\"\"\n",
      "    31                                         \tGradient of the Gausssian Smoothing kernel (3D)\n",
      "    32                                         \tx     is a vector/matrix of x positions\n",
      "    33                                         \ty     is a vector/matrix of y positions\n",
      "    34                                         \tz     is a vector/matrix of z positions\n",
      "    35                                         \th     is the smoothing length\n",
      "    36                                         \twx, wy, wz     is the evaluated gradient\n",
      "    37                                         \t\"\"\"\n",
      "    38                                         \t\n",
      "    39  123.105 MiB  747.633 MiB         301   \tr = np.sqrt(x**2 + y**2 + z**2)\n",
      "    40                                         \t\n",
      "    41  123.105 MiB -356.426 MiB         301   \tn = -2 * np.exp( -r**2 / h**2) / h**5 / (np.pi)**(3/2)\n",
      "    42  123.105 MiB -356.426 MiB         301   \twx = n * x\n",
      "    43  124.328 MiB   11.594 MiB         301   \twy = n * y\n",
      "    44  125.551 MiB   10.918 MiB         301   \twz = n * z\n",
      "    45                                         \t\n",
      "    46  125.551 MiB -357.098 MiB         301   \treturn wx, wy, wz\n",
      "\n",
      "\n"
     ]
    }
   ],
   "source": [
    "# gradW Original\n",
    "! python -m memory_profiler sph.py"
   ]
  },
  {
   "cell_type": "code",
   "execution_count": 13,
   "metadata": {},
   "outputs": [
    {
     "name": "stdout",
     "output_type": "stream",
     "text": [
      "Filename: opt_sph.py\n",
      "\n",
      "Line #    Mem usage    Increment  Occurrences   Line Contents\n",
      "=============================================================\n",
      "    28  119.555 MiB -1988.168 MiB         301   @profile\t\n",
      "    29                                         def gradW( x, y, z, h ):\n",
      "    30                                         \t\"\"\"\n",
      "    31                                         \tGradient of the Gausssian Smoothing kernel (3D)\n",
      "    32                                         \tx     is a vector/matrix of x positions\n",
      "    33                                         \ty     is a vector/matrix of y positions\n",
      "    34                                         \tz     is a vector/matrix of z positions\n",
      "    35                                         \th     is the smoothing length\n",
      "    36                                         \twx, wy, wz     is the evaluated gradient\n",
      "    37                                         \t\"\"\"\n",
      "    38                                         \t# initalize the arrays\n",
      "    39  119.555 MiB -273.734 MiB         301   \tr = np.empty(x.shape, dtype=x.dtype)\n",
      "    40  119.555 MiB -273.734 MiB         301   \twx = np.empty(x.shape, dtype=x.dtype)\n",
      "    41  119.555 MiB -273.734 MiB         301   \twy = np.empty(y.shape, dtype=y.dtype)\n",
      "    42  119.555 MiB -273.734 MiB         301   \twz = np.empty(z.shape, dtype=z.dtype)\n",
      "    43                                         \n",
      "    44                                         \t# calculate the gradient\n",
      "    45  120.777 MiB   94.289 MiB         301   \tnp.square(x, out=r)\n",
      "    46  122.000 MiB   94.285 MiB         301   \tnp.add(r, np.square(y), out=r)\n",
      "    47  122.000 MiB -273.734 MiB         301   \tnp.add(r, np.square(z), out=r)\n",
      "    48                                         \t\n",
      "    49  122.000 MiB -273.734 MiB         301   \tnp.divide(r , -h**2, out=r)\n",
      "    50  122.000 MiB -273.734 MiB         301   \tnp.exp(r, out=r)\n",
      "    51  122.000 MiB -273.734 MiB         301   \tnp.multiply(r, -2 / h**5 / (np.pi) ** (3/2), out=r)\n",
      "    52                                         \n",
      "    53  123.223 MiB   94.285 MiB         301   \tnp.multiply(r, x, out=wx)\n",
      "    54  124.445 MiB   93.332 MiB         301   \tnp.multiply(r, y, out=wy)\n",
      "    55  125.668 MiB   91.191 MiB         301   \tnp.multiply(r, z, out=wz)\n",
      "    56                                         \t\n",
      "    57  125.668 MiB -276.828 MiB         301   \treturn wx, wy, wz\n",
      "\n",
      "\n"
     ]
    }
   ],
   "source": [
    "# gradW Optimized\n",
    "! python -m memory_profiler opt_sph.py"
   ]
  },
  {
   "cell_type": "markdown",
   "metadata": {},
   "source": [
    "## gradW Optimization Results\n",
    "\n",
    "\n",
    "Version  |Initial (MiB)|Max (MiB)|Final (MiB)   \n",
    "---------|-------------|---------|----------\n",
    "Original |   119.438   | 870.738 | 125.551 \n",
    "Optimized|   119.555   | 216.289 | 125.668\n",
    "\n",
    "By optimizing the gradW function with np.empty to initailze arrays and using in-place operations we were able to significantly reduce the maximum memory usage during this function which increases the more efficient use of memory allocation. "
   ]
  },
  {
   "cell_type": "markdown",
   "metadata": {},
   "source": [
    "# W Profiling Comparisons"
   ]
  },
  {
   "cell_type": "code",
   "execution_count": null,
   "metadata": {},
   "outputs": [],
   "source": [
    "# W\n",
    "! python -m memory_profiler sph.py"
   ]
  },
  {
   "cell_type": "markdown",
   "metadata": {},
   "source": [
    "# main Profiling Comparisons"
   ]
  },
  {
   "cell_type": "code",
   "execution_count": null,
   "metadata": {
    "scrolled": true
   },
   "outputs": [],
   "source": [
    "# main\n",
    "! python -m memory_profiler sph.py"
   ]
  },
  {
   "cell_type": "markdown",
   "metadata": {},
   "source": [
    "# Mprof "
   ]
  },
  {
   "cell_type": "code",
   "execution_count": null,
   "metadata": {},
   "outputs": [],
   "source": [
    "! python -m mprof run sph.py"
   ]
  },
  {
   "cell_type": "code",
   "execution_count": null,
   "metadata": {},
   "outputs": [],
   "source": [
    "! python -m mprof plot mprofile_20250204143302.dat"
   ]
  },
  {
   "attachments": {
    "mprof.png": {
     "image/png": "[encoded data removed]"
    }
   },
   "cell_type": "markdown",
   "metadata": {},
   "source": [
    "![mprof.png](attachment:mprof.png)"
   ]
  },
  {
   "cell_type": "markdown",
   "metadata": {},
   "source": [
    "# mprof notes\n",
    "Not really sure how well this represents the memory usage... but it creates a lot right at the beginning. "
   ]
  }
 ],
 "metadata": {
  "kernelspec": {
   "display_name": "venv",
   "language": "python",
   "name": "python3"
  },
  "language_info": {
   "codemirror_mode": {
    "name": "ipython",
    "version": 3
   },
   "file_extension": ".py",
   "mimetype": "text/x-python",
   "name": "python",
   "nbconvert_exporter": "python",
   "pygments_lexer": "ipython3",
   "version": "3.12.9"
  }
 },
 "nbformat": 4,
 "nbformat_minor": 4
}
