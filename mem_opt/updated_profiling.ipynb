{
 "cells": [
  {
   "cell_type": "markdown",
   "metadata": {},
   "source": [
    "## Imports"
   ]
  },
  {
   "cell_type": "code",
   "execution_count": 3,
   "metadata": {},
   "outputs": [],
   "source": [
    "import time\n",
    "from timeit import default_timer as timer\n",
    "import numpy as np\n",
    "from functools import wraps\n",
    "import cProfile\n",
    "import subprocess\n",
    "NAME = \"Phoebe\""
   ]
  },
  {
   "cell_type": "markdown",
   "metadata": {},
   "source": [
    "# getAcc Profiling Comparisons"
   ]
  },
  {
   "cell_type": "code",
   "execution_count": 6,
   "metadata": {},
   "outputs": [
    {
     "name": "stdout",
     "output_type": "stream",
     "text": [
      "Filename: sph.py\n",
      "\n",
      "Line #    Mem usage    Increment  Occurrences   Line Contents\n",
      "=============================================================\n",
      "   110  122.418 MiB -14139.141 MiB         301   @profile\n",
      "   111                                         def getAcc( pos, vel, m, h, k, n, lmbda, nu ):\n",
      "   112                                         \t\"\"\"\n",
      "   113                                         \tCalculate the acceleration on each SPH particle\n",
      "   114                                         \tpos   is an N x 3 matrix of positions\n",
      "   115                                         \tvel   is an N x 3 matrix of velocities\n",
      "   116                                         \tm     is the particle mass\n",
      "   117                                         \th     is the smoothing length\n",
      "   118                                         \tk     equation of state constant\n",
      "   119                                         \tn     polytropic index\n",
      "   120                                         \tlmbda external force constant\n",
      "   121                                         \tnu    viscosity\n",
      "   122                                         \ta     is N x 3 matrix of accelerations\n",
      "   123                                         \t\"\"\"\n",
      "   124                                         \t\n",
      "   125  122.418 MiB -434.664 MiB         301   \tN = pos.shape[0]\n",
      "   126                                         \t\n",
      "   127                                         \t# Calculate densities at the position of the particles\n",
      "   128  122.512 MiB -387.961 MiB         301   \trho = getDensity( pos, pos, m, h )\n",
      "   129                                         \t\n",
      "   130                                         \t# Get the pressures\n",
      "   131  122.512 MiB -423.906 MiB         301   \tP = getPressure(rho, k, n)\n",
      "   132                                         \t\n",
      "   133                                         \t# Get pairwise distances and gradients\n",
      "   134  137.777 MiB 4202.586 MiB         301   \tdx, dy, dz = getPairwiseSeparations( pos, pos )\n",
      "   135  160.676 MiB 6498.258 MiB         301   \tdWx, dWy, dWz = gradW( dx, dy, dz, h )\n",
      "   136                                         \t\n",
      "   137                                         \t# Add Pressure contribution to accelerations\n",
      "   138  168.309 MiB 1903.566 MiB         301   \tax = - np.sum( m * ( P/rho**2 + P.T/rho.T**2  ) * dWx, 1).reshape((N,1))\n",
      "   139  168.309 MiB -393.887 MiB         301   \tay = - np.sum( m * ( P/rho**2 + P.T/rho.T**2  ) * dWy, 1).reshape((N,1))\n",
      "   140  168.629 MiB -392.203 MiB         301   \taz = - np.sum( m * ( P/rho**2 + P.T/rho.T**2  ) * dWz, 1).reshape((N,1))\n",
      "   141                                         \t\n",
      "   142                                         \t# pack together the acceleration components\n",
      "   143  168.648 MiB -425.898 MiB         301   \ta = np.hstack((ax,ay,az))\n",
      "   144                                         \t\n",
      "   145                                         \t# Add external potential force\n",
      "   146  168.672 MiB -424.938 MiB         301   \ta -= lmbda * pos\n",
      "   147                                         \t\n",
      "   148                                         \t# Add viscosity\n",
      "   149  168.672 MiB -431.988 MiB         301   \ta -= nu * vel\n",
      "   150                                         \t\n",
      "   151  168.672 MiB -431.984 MiB         301   \treturn a\n",
      "\n",
      "\n"
     ]
    }
   ],
   "source": [
    "# getAcc() \n",
    "! python -m memory_profiler sph.py"
   ]
  },
  {
   "cell_type": "code",
   "execution_count": 7,
   "metadata": {},
   "outputs": [
    {
     "name": "stdout",
     "output_type": "stream",
     "text": [
      "Filename: opt_sph.py\n",
      "\n",
      "Line #    Mem usage    Increment  Occurrences   Line Contents\n",
      "=============================================================\n",
      "   109  122.039 MiB -14633.027 MiB         301   @profile\n",
      "   110                                         def getAcc( pos, vel, m, h, k, n, lmbda, nu ):\n",
      "   111                                         \t\"\"\"\n",
      "   112                                         \tCalculate the acceleration on each SPH particle\n",
      "   113                                         \tpos   is an N x 3 matrix of positions\n",
      "   114                                         \tvel   is an N x 3 matrix of velocities\n",
      "   115                                         \tm     is the particle mass\n",
      "   116                                         \th     is the smoothing length\n",
      "   117                                         \tk     equation of state constant\n",
      "   118                                         \tn     polytropic index\n",
      "   119                                         \tlmbda external force constant\n",
      "   120                                         \tnu    viscosity\n",
      "   121                                         \ta     is N x 3 matrix of accelerations\n",
      "   122                                         \t\"\"\"\n",
      "   123                                         \t\n",
      "   124  122.039 MiB -308.250 MiB         301   \tN = pos.shape[0]\n",
      "   125                                         \t\n",
      "   126                                         \t# Calculate densities at the position of the particles\n",
      "   127  122.168 MiB -250.020 MiB         301   \trho = getDensity( pos, pos, m, h )\n",
      "   128                                         \t\n",
      "   129                                         \t# Get the pressures\n",
      "   130  122.168 MiB -296.387 MiB         301   \tP = getPressure(rho, k, n)\n",
      "   131                                         \t\n",
      "   132                                         \t# Get pairwise distances and gradients\n",
      "   133  137.434 MiB 4314.570 MiB         301   \tdx, dy, dz = getPairwiseSeparations( pos, pos )\n",
      "   134  167.965 MiB 8909.328 MiB         301   \tdWx, dWy, dWz = gradW( dx, dy, dz, h )\n",
      "   135                                         \t\n",
      "   136                                         \t# Add Pressure contribution to accelerations\n",
      "   137  167.965 MiB -280.562 MiB         301   \tax = - np.sum( m * ( P/rho**2 + P.T/rho.T**2  ) * dWx, 1).reshape((N,1))\n",
      "   138  167.965 MiB -281.180 MiB         301   \tay = - np.sum( m * ( P/rho**2 + P.T/rho.T**2  ) * dWy, 1).reshape((N,1))\n",
      "   139  172.148 MiB -284.742 MiB         301   \taz = - np.sum( m * ( P/rho**2 + P.T/rho.T**2  ) * dWz, 1).reshape((N,1))\n",
      "   140                                         \t\n",
      "   141                                         \t# pack together the acceleration components\n",
      "   142  172.168 MiB -1525.871 MiB         301   \ta = np.hstack((ax,ay,az))\n",
      "   143                                         \t\n",
      "   144                                         \t# Add external potential force\n",
      "   145  170.191 MiB -1526.895 MiB         301   \ta -= lmbda * pos\n",
      "   146                                         \t\n",
      "   147                                         \t# Add viscosity\n",
      "   148  170.191 MiB -937.922 MiB         301   \ta -= nu * vel\n",
      "   149                                         \t\n",
      "   150  170.191 MiB -937.918 MiB         301   \treturn a\n",
      "\n",
      "\n"
     ]
    }
   ],
   "source": [
    "# Opt getAcc()\n",
    "! python -m memory_profiler opt_sph.py"
   ]
  },
  {
   "cell_type": "markdown",
   "metadata": {},
   "source": [
    "# getPressure Profiling Comparisons"
   ]
  },
  {
   "cell_type": "code",
   "execution_count": null,
   "metadata": {},
   "outputs": [],
   "source": [
    "# get pressure\n",
    "! python -m memory_profiler sph.py"
   ]
  },
  {
   "cell_type": "markdown",
   "metadata": {},
   "source": [
    "# getDensity Profiling Comparisons"
   ]
  },
  {
   "cell_type": "code",
   "execution_count": null,
   "metadata": {},
   "outputs": [],
   "source": [
    "# get density\n",
    "! python -m memory_profiler sph.py"
   ]
  },
  {
   "cell_type": "markdown",
   "metadata": {},
   "source": [
    "# pairwise Profiling Comparisons"
   ]
  },
  {
   "cell_type": "code",
   "execution_count": 18,
   "metadata": {},
   "outputs": [
    {
     "name": "stdout",
     "output_type": "stream",
     "text": [
      "Filename: sph.py\n",
      "\n",
      "Line #    Mem usage    Increment  Occurrences   Line Contents\n",
      "=============================================================\n",
      "    48  118.188 MiB -7117.578 MiB        1202   @profile\t\n",
      "    49                                         def getPairwiseSeparations( ri, rj ):\n",
      "    50                                         \t\"\"\"\n",
      "    51                                         \tGet pairwise desprations between 2 sets of coordinates\n",
      "    52                                         \tri    is an M x 3 matrix of positions\n",
      "    53                                         \trj    is an N x 3 matrix of positions\n",
      "    54                                         \tdx, dy, dz   are M x N matrices of separations\n",
      "    55                                         \t\"\"\"\n",
      "    56                                         \t\n",
      "    57  118.188 MiB -2831.113 MiB        1202   \tM = ri.shape[0]\n",
      "    58  118.188 MiB -2831.113 MiB        1202   \tN = rj.shape[0]\n",
      "    59                                         \t\n",
      "    60                                         \t# positions ri = (x,y,z)\n",
      "    61  118.188 MiB -2831.105 MiB        1202   \trix = ri[:,0].reshape((M,1))\n",
      "    62  118.188 MiB -2831.113 MiB        1202   \triy = ri[:,1].reshape((M,1))\n",
      "    63  118.188 MiB -2831.113 MiB        1202   \triz = ri[:,2].reshape((M,1))\n",
      "    64                                         \t\n",
      "    65                                         \t# other set of points positions rj = (x,y,z)\n",
      "    66  118.188 MiB -2831.109 MiB        1202   \trjx = rj[:,0].reshape((N,1))\n",
      "    67  118.188 MiB -2831.117 MiB        1202   \trjy = rj[:,1].reshape((N,1))\n",
      "    68  118.188 MiB -2831.117 MiB        1202   \trjz = rj[:,2].reshape((N,1))\n",
      "    69                                         \t\n",
      "    70                                         \t# matrices that store all pairwise particle separations: r_i - r_j\n",
      "    71  119.410 MiB -1822.199 MiB        1202   \tdx = rix - rjx.T\n",
      "    72  120.633 MiB -2312.891 MiB        1202   \tdy = riy - rjy.T\n",
      "    73  121.855 MiB -2809.969 MiB        1202   \tdz = riz - rjz.T\n",
      "    74                                         \t\n",
      "    75  121.855 MiB -4278.770 MiB        1202   \treturn dx, dy, dz\n",
      "\n",
      "\n"
     ]
    }
   ],
   "source": [
    "# pairwise \n",
    "! python -m memory_profiler sph.py"
   ]
  },
  {
   "cell_type": "code",
   "execution_count": 22,
   "metadata": {},
   "outputs": [
    {
     "name": "stdout",
     "output_type": "stream",
     "text": [
      "Filename: opt_sph.py\n",
      "\n",
      "Line #    Mem usage    Increment  Occurrences   Line Contents\n",
      "=============================================================\n",
      "    60  118.648 MiB -7828.898 MiB        1202   @profile\t\n",
      "    61                                         def getPairwiseSeparations( ri, rj ):\n",
      "    62                                         \t# OPTIMIZED VERSION\n",
      "    63                                         \t\"\"\"\n",
      "    64                                         \tGet pairwise desprations between 2 sets of coordinates\n",
      "    65                                         \tri    is an M x 3 matrix of positions\n",
      "    66                                         \trj    is an N x 3 matrix of positions\n",
      "    67                                         \tdx, dy, dz   are M x N matrices of separations\n",
      "    68                                         \t\"\"\"\n",
      "    69                                         \n",
      "    70  119.871 MiB -2437.258 MiB        1202   \tdx = np.subtract.outer(ri[:, 0], rj[:, 0])\n",
      "    71  121.094 MiB -2801.922 MiB        1202   \tdy = np.subtract.outer(ri[:, 1], rj[:, 1])\n",
      "    72  122.316 MiB -3178.273 MiB        1202   \tdz = np.subtract.outer(ri[:, 2], rj[:, 2])\n",
      "    73                                         \n",
      "    74  122.316 MiB -4647.910 MiB        1202   \treturn dx, dy, dz\n",
      "\n",
      "\n"
     ]
    }
   ],
   "source": [
    "# pairwise Optimized\n",
    "! python -m memory_profiler opt_sph.py"
   ]
  },
  {
   "cell_type": "markdown",
   "metadata": {},
   "source": [
    "## getPairwise Optimization Results\n",
    "\n",
    "Version  |Initial (MiB)|Max (MiB)|Final (MiB)   \n",
    "---------|-------------|---------|----------\n",
    "Original |   118.590   | 121.098 | 121.098 \n",
    "Optimized|   119.555   | 216.289 | 125.668\n",
    "\n"
   ]
  },
  {
   "cell_type": "markdown",
   "metadata": {},
   "source": [
    "# gradW Profiling Comparisons"
   ]
  },
  {
   "cell_type": "code",
   "execution_count": 9,
   "metadata": {},
   "outputs": [
    {
     "name": "stdout",
     "output_type": "stream",
     "text": [
      "Filename: sph.py\n",
      "\n",
      "Line #    Mem usage    Increment  Occurrences   Line Contents\n",
      "=============================================================\n",
      "    28  119.438 MiB -2070.977 MiB         301   @profile\t\n",
      "    29                                         def gradW( x, y, z, h ):\n",
      "    30                                         \t\"\"\"\n",
      "    31                                         \tGradient of the Gausssian Smoothing kernel (3D)\n",
      "    32                                         \tx     is a vector/matrix of x positions\n",
      "    33                                         \ty     is a vector/matrix of y positions\n",
      "    34                                         \tz     is a vector/matrix of z positions\n",
      "    35                                         \th     is the smoothing length\n",
      "    36                                         \twx, wy, wz     is the evaluated gradient\n",
      "    37                                         \t\"\"\"\n",
      "    38                                         \t\n",
      "    39  123.105 MiB  747.633 MiB         301   \tr = np.sqrt(x**2 + y**2 + z**2)\n",
      "    40                                         \t\n",
      "    41  123.105 MiB -356.426 MiB         301   \tn = -2 * np.exp( -r**2 / h**2) / h**5 / (np.pi)**(3/2)\n",
      "    42  123.105 MiB -356.426 MiB         301   \twx = n * x\n",
      "    43  124.328 MiB   11.594 MiB         301   \twy = n * y\n",
      "    44  125.551 MiB   10.918 MiB         301   \twz = n * z\n",
      "    45                                         \t\n",
      "    46  125.551 MiB -357.098 MiB         301   \treturn wx, wy, wz\n",
      "\n",
      "\n"
     ]
    }
   ],
   "source": [
    "# gradW Original\n",
    "! python -m memory_profiler sph.py"
   ]
  },
  {
   "cell_type": "code",
   "execution_count": 13,
   "metadata": {},
   "outputs": [
    {
     "name": "stdout",
     "output_type": "stream",
     "text": [
      "Filename: opt_sph.py\n",
      "\n",
      "Line #    Mem usage    Increment  Occurrences   Line Contents\n",
      "=============================================================\n",
      "    28  119.555 MiB -1988.168 MiB         301   @profile\t\n",
      "    29                                         def gradW( x, y, z, h ):\n",
      "    30                                         \t\"\"\"\n",
      "    31                                         \tGradient of the Gausssian Smoothing kernel (3D)\n",
      "    32                                         \tx     is a vector/matrix of x positions\n",
      "    33                                         \ty     is a vector/matrix of y positions\n",
      "    34                                         \tz     is a vector/matrix of z positions\n",
      "    35                                         \th     is the smoothing length\n",
      "    36                                         \twx, wy, wz     is the evaluated gradient\n",
      "    37                                         \t\"\"\"\n",
      "    38                                         \t# initalize the arrays\n",
      "    39  119.555 MiB -273.734 MiB         301   \tr = np.empty(x.shape, dtype=x.dtype)\n",
      "    40  119.555 MiB -273.734 MiB         301   \twx = np.empty(x.shape, dtype=x.dtype)\n",
      "    41  119.555 MiB -273.734 MiB         301   \twy = np.empty(y.shape, dtype=y.dtype)\n",
      "    42  119.555 MiB -273.734 MiB         301   \twz = np.empty(z.shape, dtype=z.dtype)\n",
      "    43                                         \n",
      "    44                                         \t# calculate the gradient\n",
      "    45  120.777 MiB   94.289 MiB         301   \tnp.square(x, out=r)\n",
      "    46  122.000 MiB   94.285 MiB         301   \tnp.add(r, np.square(y), out=r)\n",
      "    47  122.000 MiB -273.734 MiB         301   \tnp.add(r, np.square(z), out=r)\n",
      "    48                                         \t\n",
      "    49  122.000 MiB -273.734 MiB         301   \tnp.divide(r , -h**2, out=r)\n",
      "    50  122.000 MiB -273.734 MiB         301   \tnp.exp(r, out=r)\n",
      "    51  122.000 MiB -273.734 MiB         301   \tnp.multiply(r, -2 / h**5 / (np.pi) ** (3/2), out=r)\n",
      "    52                                         \n",
      "    53  123.223 MiB   94.285 MiB         301   \tnp.multiply(r, x, out=wx)\n",
      "    54  124.445 MiB   93.332 MiB         301   \tnp.multiply(r, y, out=wy)\n",
      "    55  125.668 MiB   91.191 MiB         301   \tnp.multiply(r, z, out=wz)\n",
      "    56                                         \t\n",
      "    57  125.668 MiB -276.828 MiB         301   \treturn wx, wy, wz\n",
      "\n",
      "\n"
     ]
    }
   ],
   "source": [
    "# gradW Optimized\n",
    "! python -m memory_profiler opt_sph.py"
   ]
  },
  {
   "cell_type": "markdown",
   "metadata": {},
   "source": [
    "## gradW Optimization Results\n",
    "\n",
    "\n",
    "Version  |Initial (MiB)|Max (MiB)|Final (MiB)   \n",
    "---------|-------------|---------|----------\n",
    "Original |   119.438   | 870.738 | 125.551 \n",
    "Optimized|   119.555   | 216.289 | 125.668\n",
    "\n",
    "By optimizing the gradW function with np.empty to initailze arrays and using in-place operations we were able to significantly reduce the maximum memory usage during this function which increases the more efficient use of memory allocation. "
   ]
  },
  {
   "cell_type": "markdown",
   "metadata": {},
   "source": [
    "# W Profiling Comparisons"
   ]
  },
  {
   "cell_type": "code",
   "execution_count": null,
   "metadata": {},
   "outputs": [],
   "source": [
    "# W\n",
    "! python -m memory_profiler sph.py"
   ]
  },
  {
   "cell_type": "markdown",
   "metadata": {},
   "source": [
    "# main Profiling Comparisons"
   ]
  },
  {
   "cell_type": "code",
   "execution_count": null,
   "metadata": {
    "scrolled": true
   },
   "outputs": [],
   "source": [
    "# main\n",
    "! python -m memory_profiler sph.py"
   ]
  },
  {
   "cell_type": "markdown",
   "metadata": {},
   "source": [
    "# Mprof "
   ]
  },
  {
   "cell_type": "code",
   "execution_count": 12,
   "metadata": {},
   "outputs": [
    {
     "name": "stdout",
     "output_type": "stream",
     "text": [
      "mprof.py: Sampling memory every 0.1s\n",
      "running new process\n",
      "running as a Python program...\n"
     ]
    }
   ],
   "source": [
    "! python -m mprof run opt_sph.py"
   ]
  },
  {
   "cell_type": "code",
   "execution_count": 1,
   "metadata": {},
   "outputs": [
    {
     "name": "stdout",
     "output_type": "stream",
     "text": [
      "Input file not found: mem_opt/mprofile_20250223123640.dat\n",
      "No files found from given input.\n"
     ]
    }
   ],
   "source": [
    "! python -m mprof plot mem_opt/mprofile_20250223123640.dat"
   ]
  },
  {
   "cell_type": "markdown",
   "metadata": {},
   "source": [
    "# mprof notes\n",
    "Original has a max usage of 10Mib in the first 0 seconds, and then stays steady. Then the "
   ]
  }
 ],
 "metadata": {
  "kernelspec": {
   "display_name": "venv",
   "language": "python",
   "name": "python3"
  },
  "language_info": {
   "codemirror_mode": {
    "name": "ipython",
    "version": 3
   },
   "file_extension": ".py",
   "mimetype": "text/x-python",
   "name": "python",
   "nbconvert_exporter": "python",
   "pygments_lexer": "ipython3",
   "version": "3.12.9"
  }
 },
 "nbformat": 4,
 "nbformat_minor": 4
}
