{
 "cells": [
  {
   "cell_type": "markdown",
   "metadata": {},
   "source": [
    "# Setup (Imports)"
   ]
  },
  {
   "cell_type": "code",
   "execution_count": 1,
   "metadata": {},
   "outputs": [],
   "source": [
    "import cython\n",
    "import numpy as np\n",
    "import time\n",
    "import sph\n",
    "# import main"
   ]
  },
  {
   "cell_type": "markdown",
   "metadata": {},
   "source": [
    "# Original Program"
   ]
  },
  {
   "cell_type": "markdown",
   "metadata": {},
   "source": [
    "## Performance"
   ]
  },
  {
   "cell_type": "code",
   "execution_count": 2,
   "metadata": {},
   "outputs": [
    {
     "name": "stdout",
     "output_type": "stream",
     "text": [
      "Elapsed time:  39.06330919265747\n"
     ]
    }
   ],
   "source": [
    "import time\n",
    "start = time.time()\n",
    "sph.main()\n",
    "elapsed = time.time() - start\n",
    "print(\"Elapsed time: \", elapsed)"
   ]
  },
  {
   "cell_type": "markdown",
   "metadata": {},
   "source": [
    "## "
   ]
  },
  {
   "cell_type": "markdown",
   "metadata": {},
   "source": [
    "## Optimized Run"
   ]
  },
  {
   "cell_type": "code",
   "execution_count": 4,
   "metadata": {},
   "outputs": [],
   "source": [
    "# import sph_parallel\n",
    "import time\n",
    "import subprocess\n",
    "start = time.time()"
   ]
  },
  {
   "cell_type": "code",
   "execution_count": 5,
   "metadata": {},
   "outputs": [
    {
     "name": "stdout",
     "output_type": "stream",
     "text": [
      "<multiprocessing.pool.Pool state=RUN pool_size=12>\n"
     ]
    }
   ],
   "source": [
    "! python sph_parallel.py"
   ]
  },
  {
   "cell_type": "code",
   "execution_count": 6,
   "metadata": {},
   "outputs": [
    {
     "name": "stdout",
     "output_type": "stream",
     "text": [
      "Elapsed time:  56.57748866081238\n"
     ]
    }
   ],
   "source": [
    "elapsed = time.time() - start\n",
    "print(\"Elapsed time: \", elapsed)"
   ]
  },
  {
   "cell_type": "code",
   "execution_count": 7,
   "metadata": {},
   "outputs": [],
   "source": [
    "# import sph_parallel_shared_memory\n",
    "import time\n",
    "import subprocess\n",
    "start = time.time()"
   ]
  },
  {
   "cell_type": "code",
   "execution_count": 8,
   "metadata": {},
   "outputs": [
    {
     "name": "stdout",
     "output_type": "stream",
     "text": [
      "<multiprocessing.pool.Pool state=RUN pool_size=12>\n"
     ]
    }
   ],
   "source": [
    "# uses shared memory on Unix systems\n",
    "! python sph_parallel_shared_memory.py"
   ]
  },
  {
   "cell_type": "code",
   "execution_count": 9,
   "metadata": {},
   "outputs": [
    {
     "name": "stdout",
     "output_type": "stream",
     "text": [
      "Elapsed time:  54.40152025222778\n"
     ]
    }
   ],
   "source": [
    "elapsed = time.time() - start\n",
    "print(\"Elapsed time: \", elapsed)"
   ]
  },
  {
   "cell_type": "markdown",
   "metadata": {},
   "source": [
    "## Performance Comparison\n",
    "\n",
    "Compilation overhead: 7.4 seconds\n",
    "\n",
    "### N=400:\n",
    "\n",
    "Original program:  11.175616264343262\n",
    "\n",
    "Cython-optimized program: 7.52044153213501\n",
    "\n",
    "### N=1000:\n",
    "\n",
    "Original program:  50.81005787849426\n",
    "\n",
    "Cython-optimized program: Elapsed time:  38.468353033065796"
   ]
  }
 ],
 "metadata": {
  "kernelspec": {
   "display_name": "Python 3 (ipykernel)",
   "language": "python",
   "name": "python3"
  },
  "language_info": {
   "codemirror_mode": {
    "name": "ipython",
    "version": 3
   },
   "file_extension": ".py",
   "mimetype": "text/x-python",
   "name": "python",
   "nbconvert_exporter": "python",
   "pygments_lexer": "ipython3",
   "version": "3.13.1"
  }
 },
 "nbformat": 4,
 "nbformat_minor": 4
}
