{
 "cells": [
  {
   "cell_type": "markdown",
   "metadata": {},
   "source": []
  },
  {
   "cell_type": "code",
   "execution_count": 5,
   "metadata": {},
   "outputs": [
    {
     "name": "stdout",
     "output_type": "stream",
     "text": [
      "Wrote profile results to sph.py.lprof\n",
      "Inspect results with:\n",
      "python -m line_profiler -rmt \"sph.py.lprof\"\n"
     ]
    }
   ],
   "source": [
    "! python -m kernprof -l sph.py "
   ]
  },
  {
   "cell_type": "code",
   "execution_count": 6,
   "metadata": {},
   "outputs": [
    {
     "name": "stdout",
     "output_type": "stream",
     "text": [
      "Timer unit: 1e-06 s\n",
      "\n",
      "Total time: 1373.41 s\n",
      "File: sph.py\n",
      "Function: getAcc at line 110\n",
      "\n",
      "Line #      Hits         Time  Per Hit   % Time  Line Contents\n",
      "==============================================================\n",
      "   110                                           @profile\n",
      "   111                                           def getAcc( pos, vel, m, h, k, n, lmbda, nu ):\n",
      "   112                                           \t\"\"\"\n",
      "   113                                           \tCalculate the acceleration on each SPH particle\n",
      "   114                                           \tpos   is an N x 3 matrix of positions\n",
      "   115                                           \tvel   is an N x 3 matrix of velocities\n",
      "   116                                           \tm     is the particle mass\n",
      "   117                                           \th     is the smoothing length\n",
      "   118                                           \tk     equation of state constant\n",
      "   119                                           \tn     polytropic index\n",
      "   120                                           \tlmbda external force constant\n",
      "   121                                           \tnu    viscosity\n",
      "   122                                           \ta     is N x 3 matrix of accelerations\n",
      "   123                                           \t\"\"\"\n",
      "   124                                           \t\n",
      "   125       301        772.0      2.6      0.0  \tN = pos.shape[0]\n",
      "   126                                           \t\n",
      "   127                                           \t# Calculate densities at the position of the particles\n",
      "   128       301  477683759.0    2e+06     34.8  \trho = getDensity( pos, pos, m, h )\n",
      "   129                                           \t\n",
      "   130                                           \t# Get the pressures\n",
      "   131       301      11547.0     38.4      0.0  \tP = getPressure(rho, k, n)\n",
      "   132                                           \t\n",
      "   133                                           \t# Get pairwise distances and gradients\n",
      "   134       301   83529619.0 277507.0      6.1  \tdx, dy, dz = getPairwiseSeparations( pos, pos )\n",
      "   135       301  581807067.0    2e+06     42.4  \tdWx, dWy, dWz = gradW( dx, dy, dz, h )\n",
      "   136                                           \t\n",
      "   137                                           \t# Add Pressure contribution to accelerations\n",
      "   138       301   74266388.0 246732.2      5.4  \tax = - np.sum( m * ( P/rho**2 + P.T/rho.T**2  ) * dWx, 1).reshape((N,1))\n",
      "   139       301   78839781.0 261926.2      5.7  \tay = - np.sum( m * ( P/rho**2 + P.T/rho.T**2  ) * dWy, 1).reshape((N,1))\n",
      "   140       301   77216372.0 256532.8      5.6  \taz = - np.sum( m * ( P/rho**2 + P.T/rho.T**2  ) * dWz, 1).reshape((N,1))\n",
      "   141                                           \t\n",
      "   142                                           \t# pack together the acceleration components\n",
      "   143       301      24043.0     79.9      0.0  \ta = np.hstack((ax,ay,az))\n",
      "   144                                           \t\n",
      "   145                                           \t# Add external potential force\n",
      "   146       301      20003.0     66.5      0.0  \ta -= lmbda * pos\n",
      "   147                                           \t\n",
      "   148                                           \t# Add viscosity\n",
      "   149       301       8357.0     27.8      0.0  \ta -= nu * vel\n",
      "   150                                           \t\n",
      "   151       301         62.0      0.2      0.0  \treturn a\n",
      "\n",
      "1373.41 seconds - sph.py:110 - getAcc\n"
     ]
    }
   ],
   "source": [
    "! python -m line_profiler -rmt \"sph.py.lprof\""
   ]
  },
  {
   "cell_type": "code",
   "execution_count": 3,
   "metadata": {},
   "outputs": [
    {
     "name": "stdout",
     "output_type": "stream",
     "text": [
      "Wrote profile results to data_structures.py.lprof\n",
      "Inspect results with:\n",
      "python -m line_profiler -rmt \"data_structures.py.lprof\"\n"
     ]
    }
   ],
   "source": [
    "! python -m kernprof -l data_structures.py "
   ]
  },
  {
   "cell_type": "code",
   "execution_count": 4,
   "metadata": {},
   "outputs": [
    {
     "name": "stdout",
     "output_type": "stream",
     "text": [
      "Timer unit: 1e-06 s\n",
      "\n",
      "Total time: 946.275 s\n",
      "File: data_structures.py\n",
      "Function: getAcc at line 214\n",
      "\n",
      "Line #      Hits         Time  Per Hit   % Time  Line Contents\n",
      "==============================================================\n",
      "   214                                           @profile \n",
      "   215                                           def getAcc(pos, vel, m, h, k, n, lmbda, nu):\n",
      "   216                                               \"\"\"\n",
      "   217                                               Calculate the acceleration on each SPH particle\n",
      "   218                                               \"\"\"\n",
      "   219       301       1603.0      5.3      0.0      N = pos.shape[0]\n",
      "   220                                               \n",
      "   221       301        828.0      2.8      0.0      pos = np.ascontiguousarray(pos)\n",
      "   222       301         76.0      0.3      0.0      m = np.ascontiguousarray(m)\n",
      "   223       301        286.0      1.0      0.0      h = np.ascontiguousarray(h)\n",
      "   224       301         97.0      0.3      0.0      k = np.ascontiguousarray(k)\n",
      "   225       301        218.0      0.7      0.0      n = np.ascontiguousarray(n)\n",
      "   226                                           \n",
      "   227                                               # Create memoryviews for inputs\n",
      "   228       301       1152.0      3.8      0.0      pos_mv = memoryview(pos)\n",
      "   229       301        337.0      1.1      0.0      m_mv = memoryview(m)\n",
      "   230       301         81.0      0.3      0.0      h_mv = memoryview(h)\n",
      "   231       301        100.0      0.3      0.0      k_mv = memoryview(k)\n",
      "   232       301        194.0      0.6      0.0      n_mv = memoryview(n)\n",
      "   233       301  265731924.0 882830.3     28.1      rho = getDensity(pos_mv, pos_mv, m_mv, h_mv, optimizedW)\n",
      "   234                                               #rho = optimizedGetDensity(pos, pos, m, h)\n",
      "   235       301      16576.0     55.1      0.0      P = getPressure(rho, k_mv, n_mv)\n",
      "   236       301   60040424.0 199469.8      6.3      dx, dy, dz = getPairwiseSeparations_inplace(pos_mv, pos_mv)\n",
      "   237       301  223858981.0 743717.5     23.7      dWx, dWy, dWz = gradW_float32_inplace(dx, dy, dz, h_mv, N)\n",
      "   238       301        330.0      1.1      0.0      \"\"\"ax = -np.sum(m * (P/rho**2 + P.T/rho.T**2) * dWx, 1).reshape((N, 1))\n",
      "   239                                               ay = -np.sum(m * (P/rho**2 + P.T/rho.T**2) * dWy, 1).reshape((N, 1))\n",
      "   240                                               az = -np.sum(m * (P/rho**2 + P.T/rho.T**2) * dWz, 1).reshape((N, 1))\n",
      "   241                                               \"\"\"\n",
      "   242                                               # Precompute common terms\n",
      "   243       301      11205.0     37.2      0.0      P_over_rho_sq = np.ascontiguousarray(P / rho**2)\n",
      "   244       301       3246.0     10.8      0.0      P_over_rho_sq_T = np.ascontiguousarray(P.T / rho.T**2)\n",
      "   245                                           \n",
      "   246                                               # Calculate acceleration components\n",
      "   247       301  148295105.0 492674.8     15.7      ax = -np.sum(m_mv * (P_over_rho_sq + P_over_rho_sq_T) * dWx, axis=1).reshape((pos.shape[0], 1))\n",
      "   248       301  128451506.0 426749.2     13.6      ay = -np.sum(m_mv * (P_over_rho_sq + P_over_rho_sq_T) * dWy, axis=1).reshape((pos.shape[0], 1))\n",
      "   249       301  119815486.0 398058.1     12.7      az = -np.sum(m_mv * (P_over_rho_sq + P_over_rho_sq_T) * dWz, axis=1).reshape((pos.shape[0], 1))\n",
      "   250       301      23102.0     76.8      0.0      a = np.hstack((ax, ay, az))\n",
      "   251       301      14263.0     47.4      0.0      a -= lmbda * pos\n",
      "   252       301       8126.0     27.0      0.0      a -= nu * vel\n",
      "   253       301         71.0      0.2      0.0      return a\n",
      "\n",
      "946.28 seconds - data_structures.py:214 - getAcc\n"
     ]
    }
   ],
   "source": [
    "! python -m line_profiler -rmt \"data_structures.py.lprof\""
   ]
  },
  {
   "cell_type": "markdown",
   "metadata": {},
   "source": [
    "## Dask.Array approach "
   ]
  },
  {
   "cell_type": "code",
   "execution_count": 16,
   "metadata": {},
   "outputs": [
    {
     "name": "stdout",
     "output_type": "stream",
     "text": [
      "Wrote profile results to parallel_dask.py.lprof\n",
      "Inspect results with:\n",
      "python -m line_profiler -rmt \"parallel_dask.py.lprof\"\n"
     ]
    }
   ],
   "source": [
    "! python -m kernprof -l dask_array.py "
   ]
  },
  {
   "cell_type": "code",
   "execution_count": 19,
   "metadata": {},
   "outputs": [
    {
     "name": "stdout",
     "output_type": "stream",
     "text": [
      "Timer unit: 1e-06 s\n",
      "\n",
      "Total time: 10.8809 s\n",
      "File: parallel_dask.py\n",
      "Function: getAcc at line 98\n",
      "\n",
      "Line #      Hits         Time  Per Hit   % Time  Line Contents\n",
      "==============================================================\n",
      "    98                                           @profile\n",
      "    99                                           def getAcc(pos, vel, m, h, k, n, lmbda, nu):\n",
      "   100                                               \"\"\"\n",
      "   101                                               Calculate the acceleration on each SPH particle using Dask arrays.\n",
      "   102                                               \n",
      "   103                                               Parameters:\n",
      "   104                                                 pos   : N x 3 Dask array of positions\n",
      "   105                                                 vel   : N x 3 Dask array of velocities\n",
      "   106                                                 m     : particle mass\n",
      "   107                                                 h     : smoothing length\n",
      "   108                                                 k     : equation-of-state constant\n",
      "   109                                                 n     : polytropic index\n",
      "   110                                                 lmbda : external force constant\n",
      "   111                                                 nu    : viscosity coefficient\n",
      "   112                                                 \n",
      "   113                                               Returns:\n",
      "   114                                                 a : N x 3 Dask array of accelerations\n",
      "   115                                               \"\"\"\n",
      "   116       301       1351.0      4.5      0.0      N = pos.shape[0]\n",
      "   117                                               # Compute density at particle positions\n",
      "   118       301    3142085.0  10438.8     28.9      rho = getDensity(pos, pos, m, h)\n",
      "   119       301     277058.0    920.5      2.5      P = getPressure(rho, k, n)\n",
      "   120                                               \n",
      "   121                                               # Compute pairwise separations and gradients of the kernel\n",
      "   122       301    1312327.0   4359.9     12.1      dx, dy, dz = getPairwiseSeparations(pos, pos)\n",
      "   123       301    2014104.0   6691.4     18.5      dWx, dWy, dWz = gradW(dx, dy, dz, h)\n",
      "   124                                               \n",
      "   125                                               # Compute the symmetric pressure term.\n",
      "   126                                               # Note: P and rho are of shape (N,1) so we use their transposes to broadcast.\n",
      "   127       301     809146.0   2688.2      7.4      term = (P / rho**2) + (P.T / (rho.T**2))\n",
      "   128       301     705127.0   2342.6      6.5      ax = - da.sum(m * term * dWx, axis=1).reshape((N, 1))\n",
      "   129       301     792359.0   2632.4      7.3      ay = - da.sum(m * term * dWy, axis=1).reshape((N, 1))\n",
      "   130       301     686279.0   2280.0      6.3      az = - da.sum(m * term * dWz, axis=1).reshape((N, 1))\n",
      "   131                                               \n",
      "   132                                               # Pack the acceleration components together\n",
      "   133       301     106498.0    353.8      1.0      a = da.hstack([ax, ay, az])\n",
      "   134                                               \n",
      "   135                                               # Add external potential and viscous damping\n",
      "   136       301    1034483.0   3436.8      9.5      a = a - lmbda * pos - nu * vel\n",
      "   137       301         99.0      0.3      0.0      return a\n",
      "\n",
      " 10.88 seconds - parallel_dask.py:98 - getAcc\n"
     ]
    }
   ],
   "source": [
    "! python -m line_profiler -rmt \"dask_array.py.lprof\""
   ]
  },
  {
   "cell_type": "code",
   "execution_count": 23,
   "metadata": {},
   "outputs": [
    {
     "name": "stdout",
     "output_type": "stream",
     "text": [
      "\u001b[1m============================= test session starts ==============================\u001b[0m\n",
      "platform darwin -- Python 3.11.6, pytest-8.3.4, pluggy-1.5.0 -- /Users/carlottaholzle/Desktop/KTH Assignments/Computational-Astrophysics/.venv/bin/python\n",
      "cachedir: .pytest_cache\n",
      "rootdir: /Users/carlottaholzle/Desktop/KTH Assignments/Computational-Astrophysics\n",
      "collected 1 item                                                               \u001b[0m\u001b[1m\n",
      "\n",
      "test_dask.py::test_daskAcc \u001b[32mPASSED\u001b[0m\u001b[32m                                        [100%]\u001b[0m\n",
      "\n",
      "\u001b[32m============================== \u001b[32m\u001b[1m1 passed\u001b[0m\u001b[32m in 2.67s\u001b[0m\u001b[32m ===============================\u001b[0m\n"
     ]
    }
   ],
   "source": [
    "! pytest -v test_dask.py"
   ]
  },
  {
   "cell_type": "markdown",
   "metadata": {},
   "source": [
    "## Dask futures approach \n",
    "Hypothesis through breaking the pairwise computation into smaller tasks, then being able to submit them all in parallel. "
   ]
  },
  {
   "cell_type": "code",
   "execution_count": 31,
   "metadata": {},
   "outputs": [
    {
     "name": "stdout",
     "output_type": "stream",
     "text": [
      "Dask dashboard available at: http://127.0.0.1:8790/status\n",
      "\n",
      "Running simulation with 1 chunk...\n",
      "/Users/carlottaholzle/Desktop/KTH Assignments/Computational-Astrophysics/.venv/lib/python3.11/site-packages/distributed/client.py:3370: UserWarning: Sending large graph of size 22.91 MiB.\n",
      "This may cause some slowdown.\n",
      "Consider loading the data with Dask directly\n",
      " or using futures or delayed objects to embed the data into the graph without repetition.\n",
      "See also https://docs.dask.org/en/stable/best-practices.html#load-data-with-dask for more information.\n",
      "  warnings.warn(\n",
      "Chunks: 1, Time: 0.106s\n",
      "\n",
      "Running simulation with 2 chunks...\n",
      "Chunks: 2, Time: 0.145s\n",
      "\n",
      "Running simulation with 4 chunks...\n",
      "Chunks: 4, Time: 0.200s\n",
      "\n",
      "Running simulation with 8 chunks...\n",
      "Chunks: 8, Time: 0.292s\n",
      "\n",
      "Running simulation with 16 chunks...\n",
      "Chunks: 16, Time: 0.525s\n",
      "\n",
      "Running simulation with 32 chunks...\n",
      "Chunks: 32, Time: 1.300s\n",
      "\n",
      "Simulation complete. Results: {1: 0.10646224021911621, 2: 0.1446518898010254, 4: 0.1996753215789795, 8: 0.29192376136779785, 16: 0.5246140956878662, 32: 1.3004727363586426}\n"
     ]
    }
   ],
   "source": [
    "! python test_chunk.py"
   ]
  },
  {
   "cell_type": "code",
   "execution_count": 29,
   "metadata": {},
   "outputs": [
    {
     "name": "stdout",
     "output_type": "stream",
     "text": [
      "Dask dashboard available at: http://127.0.0.1:8790/status\n",
      "Wrote profile results to futures_dask.py.lprof\n",
      "Inspect results with:\n",
      "python -m line_profiler -rmt \"futures_dask.py.lprof\"\n"
     ]
    }
   ],
   "source": [
    "! python -m kernprof -l futures_dask.py "
   ]
  },
  {
   "cell_type": "code",
   "execution_count": 30,
   "metadata": {},
   "outputs": [
    {
     "name": "stdout",
     "output_type": "stream",
     "text": [
      "Timer unit: 1e-06 s\n",
      "\n",
      "Total time: 3124.69 s\n",
      "File: futures_dask.py\n",
      "Function: getAcc at line 82\n",
      "\n",
      "Line #      Hits         Time  Per Hit   % Time  Line Contents\n",
      "==============================================================\n",
      "    82                                           @profile\n",
      "    83                                           def getAcc(pos, vel, m, h, k, n, lmbda, nu, num_chunks=10):\n",
      "    84                                               \"\"\"\n",
      "    85                                               Calculate the acceleration on each SPH particle using parallel summation.\n",
      "    86                                               Scatter large arrays so that they are not repeatedly embedded in the task graph.\n",
      "    87                                               \"\"\"\n",
      "    88       301        366.0      1.2      0.0      N = pos.shape[0]\n",
      "    89                                               # Compute densities and pressures\n",
      "    90       301  381917907.0    1e+06     12.2      rho = getDensity(pos, pos, m, h, num_chunks=100)\n",
      "    91       301      74463.0    247.4      0.0      P = getPressure(rho, k, n)\n",
      "    92                                               \n",
      "    93                                               # Compute full pairwise separations and kernel gradients (NxN arrays)\n",
      "    94       301   83509803.0 277441.2      2.7      dx, dy, dz = getPairwiseSeparations(pos, pos)\n",
      "    95       301  536996408.0    2e+06     17.2      dWx, dWy, dWz = gradW(dx, dy, dz, h)\n",
      "    96                                               \n",
      "    97                                               # Scatter and replicate large arrays for resilience\n",
      "    98       301        443.0      1.5      0.0      futures = {}\n",
      "    99      1806      39443.0     21.8      0.0      for name, arr in zip([\"P\", \"rho\", \"dWx\", \"dWy\", \"dWz\"], [P, rho, dWx, dWy, dWz]):\n",
      "   100      1505 1484306224.0 986250.0     47.5          futures[name] = client.scatter(arr, broadcast=True)\n",
      "   101      1505    2556867.0   1698.9      0.1          client.replicate([futures[name]])\n",
      "   102                                                   \n",
      "   103                                               # Break the acceleration summation into chunks over the i-index\n",
      "   104       301         72.0      0.2      0.0      acc_futures = []\n",
      "   105       301      12853.0     42.7      0.0      chunk_size = int(np.ceil(N / num_chunks))\n",
      "   106       602       1248.0      2.1      0.0      for i in range(0, N, chunk_size):\n",
      "   107       301        207.0      0.7      0.0          i_end = min(i + chunk_size, N)\n",
      "   108       602    1214701.0   2017.8      0.0          future = client.submit(\n",
      "   109       301        113.0      0.4      0.0              compute_acc_chunk, i, i_end, m,\n",
      "   110       301        663.0      2.2      0.0              futures[\"P\"], futures[\"rho\"],\n",
      "   111       301        610.0      2.0      0.0              futures[\"dWx\"], futures[\"dWy\"], futures[\"dWz\"]\n",
      "   112                                                   )\n",
      "   113       301        202.0      0.7      0.0          acc_futures.append(future)\n",
      "   114       301  632554538.0    2e+06     20.2      wait(acc_futures)\n",
      "   115       301     789528.0   2623.0      0.0      results = client.gather(acc_futures)\n",
      "   116                                               \n",
      "   117                                               # Combine chunked results into full acceleration arrays\n",
      "   118       301      54501.0    181.1      0.0      ax = np.vstack([r[0] for r in results])\n",
      "   119       301      30490.0    101.3      0.0      ay = np.vstack([r[1] for r in results])\n",
      "   120       301      42067.0    139.8      0.0      az = np.vstack([r[2] for r in results])\n",
      "   121       301     250250.0    831.4      0.0      a = np.hstack((ax, ay, az))\n",
      "   122                                               \n",
      "   123                                               # Add contributions from external potential and viscosity\n",
      "   124       301     265067.0    880.6      0.0      a -= lmbda * pos\n",
      "   125       301      73454.0    244.0      0.0      a -= nu * vel\n",
      "   126       301        100.0      0.3      0.0      return a\n",
      "\n",
      "3124.69 seconds - futures_dask.py:82 - getAcc\n"
     ]
    }
   ],
   "source": [
    "! python -m line_profiler -rmt \"futures_dask.py.lprof\""
   ]
  },
  {
   "cell_type": "markdown",
   "metadata": {},
   "source": [
    "\n",
    "## Dask Delayed Approach\n",
    "each call to, getAcc(), getDensity(), etc. becomes a lazy task in a graph.\n",
    "hypothesize: Sum inside getAcc() broken into smaller tasks by also decorating sub-steps (e.g., partial sums) with @delayed"
   ]
  },
  {
   "cell_type": "code",
   "execution_count": 14,
   "metadata": {},
   "outputs": [
    {
     "name": "stdout",
     "output_type": "stream",
     "text": [
      "Wrote profile results to delayed_dask.py.lprof\n",
      "Inspect results with:\n",
      "python -m line_profiler -rmt \"delayed_dask.py.lprof\"\n"
     ]
    }
   ],
   "source": [
    "! python -m kernprof -l delayed_dask.py "
   ]
  },
  {
   "cell_type": "code",
   "execution_count": 15,
   "metadata": {},
   "outputs": [
    {
     "name": "stdout",
     "output_type": "stream",
     "text": [
      "Timer unit: 1e-06 s\n",
      "\n",
      "Total time: 1715.18 s\n",
      "File: delayed_dask.py\n",
      "Function: getAcc at line 34\n",
      "\n",
      "Line #      Hits         Time  Per Hit   % Time  Line Contents\n",
      "==============================================================\n",
      "    34                                           @profile\n",
      "    35                                           def getAcc(pos, vel, m, h, k, n, lmbda, nu):\n",
      "    36       301       1209.0      4.0      0.0      N = pos.shape[0]\n",
      "    37                                           \n",
      "    38                                               # Call delayed functions normally (no need to wrap in `delayed()` again)\n",
      "    39       301      26392.0     87.7      0.0      rho = getDensity(pos, pos, m, h)  \n",
      "    40       301      13777.0     45.8      0.0      P = getPressure(rho, k, n)\n",
      "    41       301       8363.0     27.8      0.0      separations = getPairwiseSeparations(pos, pos)\n",
      "    42                                           \n",
      "    43                                               # Compute all delayed dependencies at once\n",
      "    44       301   86979852.0 288969.6      5.1      dx, dy, dz = compute(separations)[0]\n",
      "    45       301  865336270.0    3e+06     50.5      rho, P = compute(rho, P)  \n",
      "    46                                           \n",
      "    47       301  553720840.0    2e+06     32.3      dWx, dWy, dWz = gradW(dx, dy, dz, h)\n",
      "    48                                           \n",
      "    49       301   65399467.0 217274.0      3.8      ax = -np.sum(m * (P / rho**2 + P.T / rho.T**2) * dWx, axis=1).reshape((N, 1))\n",
      "    50       301   69953280.0 232402.9      4.1      ay = -np.sum(m * (P / rho**2 + P.T / rho.T**2) * dWy, axis=1).reshape((N, 1))\n",
      "    51       301   73614256.0 244565.6      4.3      az = -np.sum(m * (P / rho**2 + P.T / rho.T**2) * dWz, axis=1).reshape((N, 1))\n",
      "    52                                           \n",
      "    53       301      61971.0    205.9      0.0      a = np.hstack((ax, ay, az))\n",
      "    54       301      47326.0    157.2      0.0      a -= lmbda * pos\n",
      "    55       301      13667.0     45.4      0.0      a -= nu * vel\n",
      "    56       301         59.0      0.2      0.0      return a\n",
      "\n",
      "1715.18 seconds - delayed_dask.py:34 - getAcc\n"
     ]
    }
   ],
   "source": [
    "! python -m line_profiler -rmt \"delayed_dask.py.lprof\""
   ]
  },
  {
   "cell_type": "markdown",
   "metadata": {},
   "source": [
    "# analysis: \n",
    "Remark: these times target the getAcc() function not the aditional overhead. this might be higher when using dask. "
   ]
  },
  {
   "cell_type": "code",
   "execution_count": 31,
   "metadata": {},
   "outputs": [
    {
     "data": {
      "image/png": "[encoded data removed]",
      "text/plain": [
       "<Figure size 800x600 with 1 Axes>"
      ]
     },
     "metadata": {},
     "output_type": "display_data"
    },
    {
     "data": {
      "image/png": "[encoded data removed]",
      "text/plain": [
       "<Figure size 800x600 with 1 Axes>"
      ]
     },
     "metadata": {},
     "output_type": "display_data"
    }
   ],
   "source": [
    "import matplotlib.pyplot as plt\n",
    "\n",
    "# Data\n",
    "data = {\n",
    "    1000: {\n",
    "        \"original\": 11.4017,\n",
    "        \"module 1 optimization\": 7.65755,\n",
    "        \"dask_array\": 10.3941,\n",
    "        \"dask_futures\": 48.3674,\n",
    "        \"dask_delayed\": 10.5502,\n",
    "    },\n",
    "    10000: {\n",
    "        \"original\": 1373.41,\n",
    "        \"module 1 optimization\": 946.275,\n",
    "        \"dask_array\": 10.8809,\n",
    "        \"dask_future\": 3124.69,\n",
    "        \"dask_delayed\": 1715.18,\n",
    "    },\n",
    "}\n",
    "\n",
    "# Plot each N separately\n",
    "for N, times in data.items():\n",
    "    plt.figure(figsize=(8, 6))\n",
    "    plt.bar(times.keys(), times.values())\n",
    "    plt.xlabel(\"Method\")\n",
    "    plt.ylabel(\"Total Time (s)\")\n",
    "    plt.title(f\"Performance Comparison for N={N}\")\n",
    "    plt.xticks(rotation=45)\n",
    "    plt.yscale(\"log\")  # Using log scale to handle large disparities in values\n",
    "    plt.grid(axis=\"y\", linestyle=\"--\", alpha=0.7)\n",
    "    plt.show()"
   ]
  }
 ],
 "metadata": {
  "kernelspec": {
   "display_name": ".venv",
   "language": "python",
   "name": "python3"
  },
  "language_info": {
   "codemirror_mode": {
    "name": "ipython",
    "version": 3
   },
   "file_extension": ".py",
   "mimetype": "text/x-python",
   "name": "python",
   "nbconvert_exporter": "python",
   "pygments_lexer": "ipython3",
   "version": "3.11.6"
  }
 },
 "nbformat": 4,
 "nbformat_minor": 2
}
