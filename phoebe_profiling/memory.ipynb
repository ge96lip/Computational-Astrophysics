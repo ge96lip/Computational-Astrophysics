{
 "cells": [
  {
   "cell_type": "markdown",
   "metadata": {},
   "source": [
    "# Memory Profile Notes"
   ]
  },
  {
   "cell_type": "markdown",
   "metadata": {},
   "source": [
    "## W"
   ]
  },
  {
   "cell_type": "markdown",
   "metadata": {},
   "source": [
    "This function does not have significant memory usage. \n",
    "\n",
    "    22  114.766 MiB -378.930 MiB         901   \tr = np.sqrt(x**2 + y**2 + z**2)\n",
    "\n",
    "This line allocates -378.930 MiB of memory, perhaps this calculation could be optimized more. \n",
    "\n",
    "    24  115.391 MiB -1152.188 MiB         901   \tw = (1.0 / (h*np.sqrt(np.pi)))**3 * np.exp( -r**2 / h**2)\n",
    "\n",
    "This line could be optimized more using in place optimizations. "
   ]
  },
  {
   "cell_type": "markdown",
   "metadata": {},
   "source": [
    "## gradW"
   ]
  },
  {
   "cell_type": "markdown",
   "metadata": {},
   "source": [
    "This function uses even more memory allocations. \n",
    "\n",
    "    39  114.289 MiB  348.824 MiB         301   \tr = np.sqrt(x**2 + y**2 + z**2)\n",
    "\n",
    "This line increases memory allocation by 348.824 MiB, since it creates at least 4 separate tempory arrays in memory. This could be optimized to use less memory.\n",
    "\n",
    "    41  115.559 MiB  365.629 MiB         301   \tn = -2 * np.exp( -r**2 / h**2) / h**5 / (np.pi)**(3/2)\n",
    "\n",
    "This line increases memory allocation by 365.629 MiB, since it also creates lots of temporary arrays. \n",
    "\n",
    "    42  116.734 MiB  329.164 MiB         301   \twx = n * x\n",
    "    43  117.957 MiB  348.512 MiB         301   \twy = n * y\n",
    "    44  119.180 MiB  346.652 MiB         301   \twz = n * z\n",
    "\n",
    "These each increase memory allocation by creating large arrays (size x, y, and z)"
   ]
  },
  {
   "cell_type": "markdown",
   "metadata": {},
   "source": [
    "## getPairwiseSeparations"
   ]
  },
  {
   "cell_type": "markdown",
   "metadata": {},
   "source": [
    "This function seems to use significant amounts of memory. on line 57-68 there is no significant allocations so the memory is somewhat stable at this point. These lines only reshape the data that is already allocated. \n",
    "\n",
    "On line 71: memory allocated to 1035.637 MiB\n",
    "On line 72: memory allocated to 682.832 MiB\n",
    "On line 73: memory allocated to 313.457 MiB\n",
    "\n",
    "This is a significant increase of memory allocation and has potential to be optimized. \n",
    "\n",
    "    70  # matrices that store all pairwise particle separations: r_i - r_j\n",
    "    71  110.551 MiB 1035.637 MiB        1202   \tdx = rix - rjx.T\n",
    "    72  111.773 MiB  682.832 MiB        1202   \tdy = riy - rjy.T\n",
    "    73  112.996 MiB  313.457 MiB        1202   \tdz = riz - rjz.T"
   ]
  },
  {
   "cell_type": "markdown",
   "metadata": {},
   "source": [
    "## getDensity"
   ]
  },
  {
   "cell_type": "markdown",
   "metadata": {},
   "source": [
    "There is a significant jump in the memory when this function calls getPairwiseSeparations() by 2154.090 MiB. "
   ]
  },
  {
   "cell_type": "markdown",
   "metadata": {},
   "source": [
    "## getPressure"
   ]
  },
  {
   "cell_type": "markdown",
   "metadata": {},
   "source": [
    "There does not seem to be any increase in memory usage in this function. "
   ]
  },
  {
   "cell_type": "markdown",
   "metadata": {},
   "source": [
    "## getAcc"
   ]
  },
  {
   "cell_type": "markdown",
   "metadata": {},
   "source": [
    "The getAcc function calls both getPairwiseSeparations() and gradW() which contribute to an increase in memory by 1093.688 MiB and 1099.066 MiB respectively. \n",
    "\n",
    "We need to look at getPairwiseSeparations and gradW to optimize (perhaps using fload32 instad of float64 if precision allows) and using vectorizing computations to avoid using large intermediate arrays. "
   ]
  },
  {
   "cell_type": "markdown",
   "metadata": {},
   "source": [
    "## main"
   ]
  },
  {
   "cell_type": "markdown",
   "metadata": {},
   "source": [
    "There's a lot going on in main so this might be a lot to look at for optimization, especially since some memory allocations end up being negative numbers. \n",
    "\n",
    "   172  105.410 MiB    0.020 MiB           1   \tnp.random.seed(42)            # set the random number generator seed\n",
    "\n",
    "   174  105.445 MiB    0.035 MiB           1   \tlmbda = 2*k*(1+n)*np.pi**(-3/(2*n)) * (M*gamma(5/2+n)/R**3/gamma(1+n))**(1/n) / R**2  # ~ 2.01\n",
    "\n",
    "This lmbda calculation adds some memory allocation. \n",
    "\n",
    "   176  105.469 MiB    0.023 MiB           1   \tpos   = np.random.randn(N,3)   # randomly selected positions and velocities\n",
    "\n",
    "   177  105.480 MiB    0.012 MiB           1   \tvel   = np.zeros(pos.shape)\n",
    "\n",
    "Calculating np.random and np.zeros add some memory allocations. \n",
    "\n",
    "   180  105.664 MiB    0.184 MiB           1   \tacc = getAcc( pos, vel, m, h, k, n, lmbda, nu )\n",
    "\n",
    "the getAcc() method allocates .184 MiB\n",
    "\n",
    "   186  106.184 MiB    0.512 MiB           1   \tfig = plt.figure(figsize=(4,5), dpi=80)\n",
    "   188  106.562 MiB    0.379 MiB           1   \tax1 = plt.subplot(grid[0:2,0])\n",
    "   189  106.754 MiB    0.191 MiB           1   \tax2 = plt.subplot(grid[2,0])\n",
    "\n",
    "plotting the figure takes memory, consider preallocating the axes before the loop to reduce redundant operations. Also consider caching density values to not keep calling it over and over again. \n"
   ]
  },
  {
   "cell_type": "code",
   "execution_count": null,
   "metadata": {},
   "outputs": [],
   "source": []
  }
 ],
 "metadata": {
  "kernelspec": {
   "display_name": "venv",
   "language": "python",
   "name": "python3"
  },
  "language_info": {
   "codemirror_mode": {
    "name": "ipython",
    "version": 3
   },
   "file_extension": ".py",
   "mimetype": "text/x-python",
   "name": "python",
   "nbconvert_exporter": "python",
   "pygments_lexer": "ipython3",
   "version": "3.12.9"
  }
 },
 "nbformat": 4,
 "nbformat_minor": 4
}
